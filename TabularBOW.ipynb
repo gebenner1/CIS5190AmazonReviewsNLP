{
 "cells": [
  {
   "cell_type": "code",
   "execution_count": 1,
   "id": "ee2f96d7",
   "metadata": {},
   "outputs": [],
   "source": [
    "# Some imports that you might need\n",
    "import pandas as pd\n",
    "import numpy as np\n",
    "import matplotlib.pyplot as plt\n",
    "import nltk\n",
    "import os\n",
    "import string\n",
    "from sklearn.model_selection import train_test_split\n",
    "from sklearn.preprocessing import StandardScaler\n",
    "from sklearn.neighbors import KNeighborsClassifier\n",
    "from sklearn.metrics import f1_score\n",
    "from sklearn.metrics import accuracy_score\n",
    "from sklearn.ensemble import RandomForestClassifier\n",
    "from sklearn.ensemble import GradientBoostingClassifier"
   ]
  },
  {
   "cell_type": "code",
   "execution_count": 2,
   "id": "cac812e3",
   "metadata": {},
   "outputs": [
    {
     "name": "stderr",
     "output_type": "stream",
     "text": [
      "[nltk_data] Downloading package stopwords to\n",
      "[nltk_data]     /home/ec2-user/nltk_data...\n",
      "[nltk_data]   Package stopwords is already up-to-date!\n"
     ]
    },
    {
     "data": {
      "text/plain": [
       "True"
      ]
     },
     "execution_count": 2,
     "metadata": {},
     "output_type": "execute_result"
    }
   ],
   "source": [
    "nltk.download('stopwords')"
   ]
  },
  {
   "cell_type": "code",
   "execution_count": 3,
   "id": "7116ee1a",
   "metadata": {},
   "outputs": [
    {
     "name": "stdout",
     "output_type": "stream",
     "text": [
      "(568454, 10)\n"
     ]
    }
   ],
   "source": [
    "df = pd.read_csv('Reviews.csv')\n",
    "print(df.shape)"
   ]
  },
  {
   "cell_type": "code",
   "execution_count": 4,
   "id": "ba9174e8",
   "metadata": {},
   "outputs": [
    {
     "name": "stdout",
     "output_type": "stream",
     "text": [
      "Looking in indexes: https://pypi.org/simple, https://pip.repos.neuron.amazonaws.com\n",
      "Collecting textblob\n",
      "  Downloading textblob-0.17.1-py2.py3-none-any.whl (636 kB)\n",
      "\u001b[2K     \u001b[90m━━━━━━━━━━━━━━━━━━━━━━━━━━━━━━━━━━━━━━\u001b[0m \u001b[32m636.8/636.8 kB\u001b[0m \u001b[31m17.0 MB/s\u001b[0m eta \u001b[36m0:00:00\u001b[0m00:01\u001b[0m\n",
      "\u001b[?25hRequirement already satisfied: nltk>=3.1 in /home/ec2-user/anaconda3/envs/python3/lib/python3.10/site-packages (from textblob) (3.8.1)\n",
      "Requirement already satisfied: click in /home/ec2-user/anaconda3/envs/python3/lib/python3.10/site-packages (from nltk>=3.1->textblob) (8.1.3)\n",
      "Requirement already satisfied: regex>=2021.8.3 in /home/ec2-user/anaconda3/envs/python3/lib/python3.10/site-packages (from nltk>=3.1->textblob) (2022.10.31)\n",
      "Requirement already satisfied: tqdm in /home/ec2-user/anaconda3/envs/python3/lib/python3.10/site-packages (from nltk>=3.1->textblob) (4.64.1)\n",
      "Requirement already satisfied: joblib in /home/ec2-user/anaconda3/envs/python3/lib/python3.10/site-packages (from nltk>=3.1->textblob) (1.2.0)\n",
      "Installing collected packages: textblob\n",
      "Successfully installed textblob-0.17.1\n"
     ]
    }
   ],
   "source": [
    "!python -m pip install textblob"
   ]
  },
  {
   "cell_type": "code",
   "execution_count": 5,
   "id": "c2842a66",
   "metadata": {},
   "outputs": [],
   "source": [
    "from textblob import TextBlob"
   ]
  },
  {
   "cell_type": "code",
   "execution_count": 6,
   "id": "77c22a7e",
   "metadata": {},
   "outputs": [
    {
     "name": "stdout",
     "output_type": "stream",
     "text": [
      "Looking in indexes: https://pypi.org/simple, https://pip.repos.neuron.amazonaws.com\n",
      "Collecting afinn\n",
      "  Downloading afinn-0.1.tar.gz (52 kB)\n",
      "\u001b[2K     \u001b[90m━━━━━━━━━━━━━━━━━━━━━━━━━━━━━━━━━━━━━━━━\u001b[0m \u001b[32m52.6/52.6 kB\u001b[0m \u001b[31m4.3 MB/s\u001b[0m eta \u001b[36m0:00:00\u001b[0m\n",
      "\u001b[?25h  Preparing metadata (setup.py) ... \u001b[?25ldone\n",
      "\u001b[?25hBuilding wheels for collected packages: afinn\n",
      "  Building wheel for afinn (setup.py) ... \u001b[?25ldone\n",
      "\u001b[?25h  Created wheel for afinn: filename=afinn-0.1-py3-none-any.whl size=53429 sha256=a4a0fca17328e3d60fecdad10f8ea59835efc76c5060857e1c5b4f3df458b000\n",
      "  Stored in directory: /home/ec2-user/.cache/pip/wheels/f0/cb/2b/11d9c0e366428dd38f54a5e14c6252edcc669feec72c2d5ef8\n",
      "Successfully built afinn\n",
      "Installing collected packages: afinn\n",
      "Successfully installed afinn-0.1\n"
     ]
    }
   ],
   "source": [
    "!pip install afinn"
   ]
  },
  {
   "cell_type": "code",
   "execution_count": 7,
   "id": "2c798d3e",
   "metadata": {},
   "outputs": [],
   "source": [
    "from afinn import Afinn"
   ]
  },
  {
   "cell_type": "markdown",
   "id": "c08ba1a8",
   "metadata": {},
   "source": [
    "### Data Exploration"
   ]
  },
  {
   "cell_type": "code",
   "execution_count": 3,
   "id": "e6bd0691",
   "metadata": {},
   "outputs": [
    {
     "data": {
      "text/html": [
       "<div>\n",
       "<style scoped>\n",
       "    .dataframe tbody tr th:only-of-type {\n",
       "        vertical-align: middle;\n",
       "    }\n",
       "\n",
       "    .dataframe tbody tr th {\n",
       "        vertical-align: top;\n",
       "    }\n",
       "\n",
       "    .dataframe thead th {\n",
       "        text-align: right;\n",
       "    }\n",
       "</style>\n",
       "<table border=\"1\" class=\"dataframe\">\n",
       "  <thead>\n",
       "    <tr style=\"text-align: right;\">\n",
       "      <th></th>\n",
       "      <th>Id</th>\n",
       "      <th>ProductId</th>\n",
       "      <th>UserId</th>\n",
       "      <th>ProfileName</th>\n",
       "      <th>HelpfulnessNumerator</th>\n",
       "      <th>HelpfulnessDenominator</th>\n",
       "      <th>Score</th>\n",
       "      <th>Time</th>\n",
       "      <th>Summary</th>\n",
       "      <th>Text</th>\n",
       "    </tr>\n",
       "  </thead>\n",
       "  <tbody>\n",
       "    <tr>\n",
       "      <th>0</th>\n",
       "      <td>1</td>\n",
       "      <td>B001E4KFG0</td>\n",
       "      <td>A3SGXH7AUHU8GW</td>\n",
       "      <td>delmartian</td>\n",
       "      <td>1</td>\n",
       "      <td>1</td>\n",
       "      <td>5</td>\n",
       "      <td>1303862400</td>\n",
       "      <td>Good Quality Dog Food</td>\n",
       "      <td>I have bought several of the Vitality canned d...</td>\n",
       "    </tr>\n",
       "    <tr>\n",
       "      <th>1</th>\n",
       "      <td>2</td>\n",
       "      <td>B00813GRG4</td>\n",
       "      <td>A1D87F6ZCVE5NK</td>\n",
       "      <td>dll pa</td>\n",
       "      <td>0</td>\n",
       "      <td>0</td>\n",
       "      <td>1</td>\n",
       "      <td>1346976000</td>\n",
       "      <td>Not as Advertised</td>\n",
       "      <td>Product arrived labeled as Jumbo Salted Peanut...</td>\n",
       "    </tr>\n",
       "    <tr>\n",
       "      <th>2</th>\n",
       "      <td>3</td>\n",
       "      <td>B000LQOCH0</td>\n",
       "      <td>ABXLMWJIXXAIN</td>\n",
       "      <td>Natalia Corres \"Natalia Corres\"</td>\n",
       "      <td>1</td>\n",
       "      <td>1</td>\n",
       "      <td>4</td>\n",
       "      <td>1219017600</td>\n",
       "      <td>\"Delight\" says it all</td>\n",
       "      <td>This is a confection that has been around a fe...</td>\n",
       "    </tr>\n",
       "    <tr>\n",
       "      <th>3</th>\n",
       "      <td>4</td>\n",
       "      <td>B000UA0QIQ</td>\n",
       "      <td>A395BORC6FGVXV</td>\n",
       "      <td>Karl</td>\n",
       "      <td>3</td>\n",
       "      <td>3</td>\n",
       "      <td>2</td>\n",
       "      <td>1307923200</td>\n",
       "      <td>Cough Medicine</td>\n",
       "      <td>If you are looking for the secret ingredient i...</td>\n",
       "    </tr>\n",
       "    <tr>\n",
       "      <th>4</th>\n",
       "      <td>5</td>\n",
       "      <td>B006K2ZZ7K</td>\n",
       "      <td>A1UQRSCLF8GW1T</td>\n",
       "      <td>Michael D. Bigham \"M. Wassir\"</td>\n",
       "      <td>0</td>\n",
       "      <td>0</td>\n",
       "      <td>5</td>\n",
       "      <td>1350777600</td>\n",
       "      <td>Great taffy</td>\n",
       "      <td>Great taffy at a great price.  There was a wid...</td>\n",
       "    </tr>\n",
       "  </tbody>\n",
       "</table>\n",
       "</div>"
      ],
      "text/plain": [
       "   Id   ProductId          UserId                      ProfileName  \\\n",
       "0   1  B001E4KFG0  A3SGXH7AUHU8GW                       delmartian   \n",
       "1   2  B00813GRG4  A1D87F6ZCVE5NK                           dll pa   \n",
       "2   3  B000LQOCH0   ABXLMWJIXXAIN  Natalia Corres \"Natalia Corres\"   \n",
       "3   4  B000UA0QIQ  A395BORC6FGVXV                             Karl   \n",
       "4   5  B006K2ZZ7K  A1UQRSCLF8GW1T    Michael D. Bigham \"M. Wassir\"   \n",
       "\n",
       "   HelpfulnessNumerator  HelpfulnessDenominator  Score        Time  \\\n",
       "0                     1                       1      5  1303862400   \n",
       "1                     0                       0      1  1346976000   \n",
       "2                     1                       1      4  1219017600   \n",
       "3                     3                       3      2  1307923200   \n",
       "4                     0                       0      5  1350777600   \n",
       "\n",
       "                 Summary                                               Text  \n",
       "0  Good Quality Dog Food  I have bought several of the Vitality canned d...  \n",
       "1      Not as Advertised  Product arrived labeled as Jumbo Salted Peanut...  \n",
       "2  \"Delight\" says it all  This is a confection that has been around a fe...  \n",
       "3         Cough Medicine  If you are looking for the secret ingredient i...  \n",
       "4            Great taffy  Great taffy at a great price.  There was a wid...  "
      ]
     },
     "execution_count": 3,
     "metadata": {},
     "output_type": "execute_result"
    }
   ],
   "source": [
    "df.head()"
   ]
  },
  {
   "cell_type": "code",
   "execution_count": 4,
   "id": "979ab1ea",
   "metadata": {},
   "outputs": [
    {
     "data": {
      "text/plain": [
       "568454"
      ]
     },
     "execution_count": 4,
     "metadata": {},
     "output_type": "execute_result"
    }
   ],
   "source": [
    "len(df)"
   ]
  },
  {
   "cell_type": "code",
   "execution_count": 20,
   "id": "56a38e26",
   "metadata": {},
   "outputs": [],
   "source": [
    "df['Summary'] = df['Summary'].apply(lambda x: str(x))\n",
    "df['Text'] = df['Text'].apply(lambda x: str(x))"
   ]
  },
  {
   "cell_type": "code",
   "execution_count": 6,
   "id": "06cbdcfd",
   "metadata": {},
   "outputs": [
    {
     "name": "stdout",
     "output_type": "stream",
     "text": [
      "Id 568454\n",
      "ProductId 74258\n",
      "UserId 256059\n",
      "ProfileName 218417\n",
      "HelpfulnessNumerator 231\n",
      "HelpfulnessDenominator 234\n",
      "Score 5\n",
      "Time 3168\n",
      "Summary 295743\n",
      "Text 393579\n",
      "HelpfulnessProp 952\n"
     ]
    }
   ],
   "source": [
    "for col in df:\n",
    "    print(col + \" \" + str(len(df[col].unique())))"
   ]
  },
  {
   "cell_type": "code",
   "execution_count": 7,
   "id": "8804e72b",
   "metadata": {},
   "outputs": [
    {
     "data": {
      "text/plain": [
       "23.446857731951507"
      ]
     },
     "execution_count": 7,
     "metadata": {},
     "output_type": "execute_result"
    }
   ],
   "source": [
    "(df['Summary'].str.len()).mean()"
   ]
  },
  {
   "cell_type": "code",
   "execution_count": 8,
   "id": "04f0e21d",
   "metadata": {},
   "outputs": [
    {
     "data": {
      "text/plain": [
       "436.22208305333413"
      ]
     },
     "execution_count": 8,
     "metadata": {},
     "output_type": "execute_result"
    }
   ],
   "source": [
    "(df['Text'].str.len()).mean()"
   ]
  },
  {
   "cell_type": "code",
   "execution_count": 9,
   "id": "46218dd5",
   "metadata": {},
   "outputs": [
    {
     "data": {
      "text/plain": [
       "<AxesSubplot:>"
      ]
     },
     "execution_count": 9,
     "metadata": {},
     "output_type": "execute_result"
    },
    {
     "data": {
      "image/png": "[encoded data removed]",
      "text/plain": [
       "<Figure size 640x480 with 1 Axes>"
      ]
     },
     "metadata": {},
     "output_type": "display_data"
    }
   ],
   "source": [
    "df['Score'].value_counts().plot(kind='bar')"
   ]
  },
  {
   "cell_type": "markdown",
   "id": "00b9e4a8",
   "metadata": {},
   "source": [
    "### Feature Engineering"
   ]
  },
  {
   "cell_type": "code",
   "execution_count": 10,
   "id": "f119339c",
   "metadata": {},
   "outputs": [],
   "source": [
    "df[\"HelpfulnessProp\"] = df[\"HelpfulnessNumerator\"] / df[\"HelpfulnessDenominator\"]"
   ]
  },
  {
   "cell_type": "code",
   "execution_count": 31,
   "id": "26cf770b",
   "metadata": {},
   "outputs": [],
   "source": [
    "df[\"HighScore\"] = df['Score'].apply(lambda x: 1 if x >= 4 else 0)"
   ]
  },
  {
   "cell_type": "code",
   "execution_count": 21,
   "id": "a420429f",
   "metadata": {},
   "outputs": [],
   "source": [
    "df['sum_char_count'] = df['Summary'].apply(lambda x: len(x))\n",
    "df['sum_word_count'] = df['Summary'].apply(lambda x: len(x.split()))\n",
    "\n",
    "df['text_char_count'] = df['Text'].apply(lambda x: len(x))\n",
    "df['text_word_count'] = df['Text'].apply(lambda x: len(x.split()))"
   ]
  },
  {
   "cell_type": "code",
   "execution_count": 22,
   "id": "d12119fa",
   "metadata": {},
   "outputs": [],
   "source": [
    "punctuation = string.punctuation\n",
    "stop_words = list(set(stopwords.words('english')))\n",
    "df['text_stopword_count'] = df['Text'].apply(lambda x: len([wrd for wrd in x.split() if wrd.lower() in stop_words]))\n",
    "df['text_punctuation_count'] = df['Text'].apply(lambda x: len(\"\".join(_ for _ in x if _ in punctuation))) \n",
    "df['sum_punctuation_count'] = df['Summary'].apply(lambda x: len(\"\".join(_ for _ in x if _ in punctuation))) "
   ]
  },
  {
   "cell_type": "code",
   "execution_count": 24,
   "id": "c5e12778",
   "metadata": {},
   "outputs": [],
   "source": [
    "df['sum_word_density'] = df['sum_char_count'] / (df['sum_word_count']+1)\n",
    "df['text_word_density'] = df['text_char_count'] / (df['text_word_count']+1)"
   ]
  },
  {
   "cell_type": "code",
   "execution_count": 50,
   "id": "451656a4",
   "metadata": {},
   "outputs": [],
   "source": [
    "def get_polarity(text):\n",
    "    try:\n",
    "        textblob = TextBlob(text)\n",
    "        pol = textblob.sentiment.polarity\n",
    "    except:\n",
    "        pol = 0.0\n",
    "    return pol\n",
    "\n",
    "def get_subjectivity(text):\n",
    "    try:\n",
    "        textblob = TextBlob(text)\n",
    "        subj = textblob.sentiment.subjectivity\n",
    "    except:\n",
    "        subj = 0.0\n",
    "    return subj"
   ]
  },
  {
   "cell_type": "code",
   "execution_count": 51,
   "id": "bf19e91d",
   "metadata": {},
   "outputs": [],
   "source": [
    "df['sum_polarity'] = df['Summary'].apply(get_polarity)\n",
    "df['sum_subjectivity'] = df['Summary'].apply(get_subjectivity)"
   ]
  },
  {
   "cell_type": "code",
   "execution_count": 52,
   "id": "27a657f3",
   "metadata": {},
   "outputs": [],
   "source": [
    "df['text_polarity'] = df['Text'].apply(get_polarity)\n",
    "df['text_subjectivity'] = df['Text'].apply(get_subjectivity)"
   ]
  },
  {
   "cell_type": "code",
   "execution_count": 55,
   "id": "314e4ee8",
   "metadata": {},
   "outputs": [],
   "source": [
    "afinn = Afinn()\n",
    "df['sum_sentiment_score'] = df['Summary'].apply(afinn.score)\n",
    "df['text_sentiment_score'] = df['Text'].apply(afinn.score)"
   ]
  },
  {
   "cell_type": "code",
   "execution_count": 56,
   "id": "1aa5f919",
   "metadata": {},
   "outputs": [
    {
     "data": {
      "text/html": [
       "<div>\n",
       "<style scoped>\n",
       "    .dataframe tbody tr th:only-of-type {\n",
       "        vertical-align: middle;\n",
       "    }\n",
       "\n",
       "    .dataframe tbody tr th {\n",
       "        vertical-align: top;\n",
       "    }\n",
       "\n",
       "    .dataframe thead th {\n",
       "        text-align: right;\n",
       "    }\n",
       "</style>\n",
       "<table border=\"1\" class=\"dataframe\">\n",
       "  <thead>\n",
       "    <tr style=\"text-align: right;\">\n",
       "      <th></th>\n",
       "      <th>Id</th>\n",
       "      <th>ProductId</th>\n",
       "      <th>UserId</th>\n",
       "      <th>ProfileName</th>\n",
       "      <th>HelpfulnessNumerator</th>\n",
       "      <th>HelpfulnessDenominator</th>\n",
       "      <th>Score</th>\n",
       "      <th>Time</th>\n",
       "      <th>Summary</th>\n",
       "      <th>Text</th>\n",
       "      <th>...</th>\n",
       "      <th>text_punctuation_count</th>\n",
       "      <th>sum_punctuation_count</th>\n",
       "      <th>sum_word_density</th>\n",
       "      <th>text_word_density</th>\n",
       "      <th>sum_polarity</th>\n",
       "      <th>sum_subjectivity</th>\n",
       "      <th>text_polarity</th>\n",
       "      <th>text_subjectivity</th>\n",
       "      <th>sum_sentiment_score</th>\n",
       "      <th>text_sentiment_score</th>\n",
       "    </tr>\n",
       "  </thead>\n",
       "  <tbody>\n",
       "    <tr>\n",
       "      <th>0</th>\n",
       "      <td>1</td>\n",
       "      <td>B001E4KFG0</td>\n",
       "      <td>A3SGXH7AUHU8GW</td>\n",
       "      <td>delmartian</td>\n",
       "      <td>1</td>\n",
       "      <td>1</td>\n",
       "      <td>5</td>\n",
       "      <td>1303862400</td>\n",
       "      <td>Good Quality Dog Food</td>\n",
       "      <td>I have bought several of the Vitality canned d...</td>\n",
       "      <td>...</td>\n",
       "      <td>3</td>\n",
       "      <td>0</td>\n",
       "      <td>4.200000</td>\n",
       "      <td>5.367347</td>\n",
       "      <td>0.70</td>\n",
       "      <td>0.60</td>\n",
       "      <td>0.450000</td>\n",
       "      <td>0.433333</td>\n",
       "      <td>5.0</td>\n",
       "      <td>16.0</td>\n",
       "    </tr>\n",
       "    <tr>\n",
       "      <th>1</th>\n",
       "      <td>2</td>\n",
       "      <td>B00813GRG4</td>\n",
       "      <td>A1D87F6ZCVE5NK</td>\n",
       "      <td>dll pa</td>\n",
       "      <td>0</td>\n",
       "      <td>0</td>\n",
       "      <td>1</td>\n",
       "      <td>1346976000</td>\n",
       "      <td>Not as Advertised</td>\n",
       "      <td>Product arrived labeled as Jumbo Salted Peanut...</td>\n",
       "      <td>...</td>\n",
       "      <td>7</td>\n",
       "      <td>0</td>\n",
       "      <td>4.250000</td>\n",
       "      <td>5.937500</td>\n",
       "      <td>0.00</td>\n",
       "      <td>0.00</td>\n",
       "      <td>-0.033333</td>\n",
       "      <td>0.762963</td>\n",
       "      <td>0.0</td>\n",
       "      <td>-2.0</td>\n",
       "    </tr>\n",
       "    <tr>\n",
       "      <th>2</th>\n",
       "      <td>3</td>\n",
       "      <td>B000LQOCH0</td>\n",
       "      <td>ABXLMWJIXXAIN</td>\n",
       "      <td>Natalia Corres \"Natalia Corres\"</td>\n",
       "      <td>1</td>\n",
       "      <td>1</td>\n",
       "      <td>4</td>\n",
       "      <td>1219017600</td>\n",
       "      <td>\"Delight\" says it all</td>\n",
       "      <td>This is a confection that has been around a fe...</td>\n",
       "      <td>...</td>\n",
       "      <td>18</td>\n",
       "      <td>2</td>\n",
       "      <td>4.200000</td>\n",
       "      <td>5.357895</td>\n",
       "      <td>0.00</td>\n",
       "      <td>0.00</td>\n",
       "      <td>0.133571</td>\n",
       "      <td>0.448571</td>\n",
       "      <td>3.0</td>\n",
       "      <td>3.0</td>\n",
       "    </tr>\n",
       "    <tr>\n",
       "      <th>3</th>\n",
       "      <td>4</td>\n",
       "      <td>B000UA0QIQ</td>\n",
       "      <td>A395BORC6FGVXV</td>\n",
       "      <td>Karl</td>\n",
       "      <td>3</td>\n",
       "      <td>3</td>\n",
       "      <td>2</td>\n",
       "      <td>1307923200</td>\n",
       "      <td>Cough Medicine</td>\n",
       "      <td>If you are looking for the secret ingredient i...</td>\n",
       "      <td>...</td>\n",
       "      <td>5</td>\n",
       "      <td>0</td>\n",
       "      <td>4.666667</td>\n",
       "      <td>5.214286</td>\n",
       "      <td>0.00</td>\n",
       "      <td>0.00</td>\n",
       "      <td>0.166667</td>\n",
       "      <td>0.533333</td>\n",
       "      <td>0.0</td>\n",
       "      <td>3.0</td>\n",
       "    </tr>\n",
       "    <tr>\n",
       "      <th>4</th>\n",
       "      <td>5</td>\n",
       "      <td>B006K2ZZ7K</td>\n",
       "      <td>A1UQRSCLF8GW1T</td>\n",
       "      <td>Michael D. Bigham \"M. Wassir\"</td>\n",
       "      <td>0</td>\n",
       "      <td>0</td>\n",
       "      <td>5</td>\n",
       "      <td>1350777600</td>\n",
       "      <td>Great taffy</td>\n",
       "      <td>Great taffy at a great price.  There was a wid...</td>\n",
       "      <td>...</td>\n",
       "      <td>5</td>\n",
       "      <td>0</td>\n",
       "      <td>3.666667</td>\n",
       "      <td>5.000000</td>\n",
       "      <td>0.80</td>\n",
       "      <td>0.75</td>\n",
       "      <td>0.483333</td>\n",
       "      <td>0.637500</td>\n",
       "      <td>3.0</td>\n",
       "      <td>9.0</td>\n",
       "    </tr>\n",
       "    <tr>\n",
       "      <th>...</th>\n",
       "      <td>...</td>\n",
       "      <td>...</td>\n",
       "      <td>...</td>\n",
       "      <td>...</td>\n",
       "      <td>...</td>\n",
       "      <td>...</td>\n",
       "      <td>...</td>\n",
       "      <td>...</td>\n",
       "      <td>...</td>\n",
       "      <td>...</td>\n",
       "      <td>...</td>\n",
       "      <td>...</td>\n",
       "      <td>...</td>\n",
       "      <td>...</td>\n",
       "      <td>...</td>\n",
       "      <td>...</td>\n",
       "      <td>...</td>\n",
       "      <td>...</td>\n",
       "      <td>...</td>\n",
       "      <td>...</td>\n",
       "      <td>...</td>\n",
       "    </tr>\n",
       "    <tr>\n",
       "      <th>568449</th>\n",
       "      <td>568450</td>\n",
       "      <td>B001EO7N10</td>\n",
       "      <td>A28KG5XORO54AY</td>\n",
       "      <td>Lettie D. Carter</td>\n",
       "      <td>0</td>\n",
       "      <td>0</td>\n",
       "      <td>5</td>\n",
       "      <td>1299628800</td>\n",
       "      <td>Will not do without</td>\n",
       "      <td>Great for sesame chicken..this is a good if no...</td>\n",
       "      <td>...</td>\n",
       "      <td>8</td>\n",
       "      <td>0</td>\n",
       "      <td>3.800000</td>\n",
       "      <td>5.518519</td>\n",
       "      <td>0.00</td>\n",
       "      <td>0.00</td>\n",
       "      <td>0.365000</td>\n",
       "      <td>0.605000</td>\n",
       "      <td>0.0</td>\n",
       "      <td>11.0</td>\n",
       "    </tr>\n",
       "    <tr>\n",
       "      <th>568450</th>\n",
       "      <td>568451</td>\n",
       "      <td>B003S1WTCU</td>\n",
       "      <td>A3I8AFVPEE8KI5</td>\n",
       "      <td>R. Sawyer</td>\n",
       "      <td>0</td>\n",
       "      <td>0</td>\n",
       "      <td>2</td>\n",
       "      <td>1331251200</td>\n",
       "      <td>disappointed</td>\n",
       "      <td>I'm disappointed with the flavor. The chocolat...</td>\n",
       "      <td>...</td>\n",
       "      <td>9</td>\n",
       "      <td>0</td>\n",
       "      <td>6.000000</td>\n",
       "      <td>5.361702</td>\n",
       "      <td>-0.75</td>\n",
       "      <td>0.75</td>\n",
       "      <td>-0.208333</td>\n",
       "      <td>0.408333</td>\n",
       "      <td>-2.0</td>\n",
       "      <td>-3.0</td>\n",
       "    </tr>\n",
       "    <tr>\n",
       "      <th>568451</th>\n",
       "      <td>568452</td>\n",
       "      <td>B004I613EE</td>\n",
       "      <td>A121AA1GQV751Z</td>\n",
       "      <td>pksd \"pk_007\"</td>\n",
       "      <td>2</td>\n",
       "      <td>2</td>\n",
       "      <td>5</td>\n",
       "      <td>1329782400</td>\n",
       "      <td>Perfect for our maltipoo</td>\n",
       "      <td>These stars are small, so you can give 10-15 o...</td>\n",
       "      <td>...</td>\n",
       "      <td>11</td>\n",
       "      <td>0</td>\n",
       "      <td>4.800000</td>\n",
       "      <td>5.552239</td>\n",
       "      <td>1.00</td>\n",
       "      <td>1.00</td>\n",
       "      <td>-0.021875</td>\n",
       "      <td>0.418750</td>\n",
       "      <td>3.0</td>\n",
       "      <td>4.0</td>\n",
       "    </tr>\n",
       "    <tr>\n",
       "      <th>568452</th>\n",
       "      <td>568453</td>\n",
       "      <td>B004I613EE</td>\n",
       "      <td>A3IBEVCTXKNOH</td>\n",
       "      <td>Kathy A. Welch \"katwel\"</td>\n",
       "      <td>1</td>\n",
       "      <td>1</td>\n",
       "      <td>5</td>\n",
       "      <td>1331596800</td>\n",
       "      <td>Favorite Training and reward treat</td>\n",
       "      <td>These are the BEST treats for training and rew...</td>\n",
       "      <td>...</td>\n",
       "      <td>3</td>\n",
       "      <td>0</td>\n",
       "      <td>5.666667</td>\n",
       "      <td>5.555556</td>\n",
       "      <td>0.50</td>\n",
       "      <td>1.00</td>\n",
       "      <td>0.517857</td>\n",
       "      <td>0.678571</td>\n",
       "      <td>4.0</td>\n",
       "      <td>15.0</td>\n",
       "    </tr>\n",
       "    <tr>\n",
       "      <th>568453</th>\n",
       "      <td>568454</td>\n",
       "      <td>B001LR2CU2</td>\n",
       "      <td>A3LGQPJCZVL9UC</td>\n",
       "      <td>srfell17</td>\n",
       "      <td>0</td>\n",
       "      <td>0</td>\n",
       "      <td>5</td>\n",
       "      <td>1338422400</td>\n",
       "      <td>Great Honey</td>\n",
       "      <td>I am very satisfied ,product is as advertised,...</td>\n",
       "      <td>...</td>\n",
       "      <td>5</td>\n",
       "      <td>0</td>\n",
       "      <td>3.666667</td>\n",
       "      <td>5.045455</td>\n",
       "      <td>0.80</td>\n",
       "      <td>0.75</td>\n",
       "      <td>0.156410</td>\n",
       "      <td>0.653846</td>\n",
       "      <td>3.0</td>\n",
       "      <td>2.0</td>\n",
       "    </tr>\n",
       "  </tbody>\n",
       "</table>\n",
       "<p>568454 rows × 26 columns</p>\n",
       "</div>"
      ],
      "text/plain": [
       "            Id   ProductId          UserId                      ProfileName  \\\n",
       "0            1  B001E4KFG0  A3SGXH7AUHU8GW                       delmartian   \n",
       "1            2  B00813GRG4  A1D87F6ZCVE5NK                           dll pa   \n",
       "2            3  B000LQOCH0   ABXLMWJIXXAIN  Natalia Corres \"Natalia Corres\"   \n",
       "3            4  B000UA0QIQ  A395BORC6FGVXV                             Karl   \n",
       "4            5  B006K2ZZ7K  A1UQRSCLF8GW1T    Michael D. Bigham \"M. Wassir\"   \n",
       "...        ...         ...             ...                              ...   \n",
       "568449  568450  B001EO7N10  A28KG5XORO54AY                 Lettie D. Carter   \n",
       "568450  568451  B003S1WTCU  A3I8AFVPEE8KI5                        R. Sawyer   \n",
       "568451  568452  B004I613EE  A121AA1GQV751Z                    pksd \"pk_007\"   \n",
       "568452  568453  B004I613EE   A3IBEVCTXKNOH          Kathy A. Welch \"katwel\"   \n",
       "568453  568454  B001LR2CU2  A3LGQPJCZVL9UC                         srfell17   \n",
       "\n",
       "        HelpfulnessNumerator  HelpfulnessDenominator  Score        Time  \\\n",
       "0                          1                       1      5  1303862400   \n",
       "1                          0                       0      1  1346976000   \n",
       "2                          1                       1      4  1219017600   \n",
       "3                          3                       3      2  1307923200   \n",
       "4                          0                       0      5  1350777600   \n",
       "...                      ...                     ...    ...         ...   \n",
       "568449                     0                       0      5  1299628800   \n",
       "568450                     0                       0      2  1331251200   \n",
       "568451                     2                       2      5  1329782400   \n",
       "568452                     1                       1      5  1331596800   \n",
       "568453                     0                       0      5  1338422400   \n",
       "\n",
       "                                   Summary  \\\n",
       "0                    Good Quality Dog Food   \n",
       "1                        Not as Advertised   \n",
       "2                    \"Delight\" says it all   \n",
       "3                           Cough Medicine   \n",
       "4                              Great taffy   \n",
       "...                                    ...   \n",
       "568449                 Will not do without   \n",
       "568450                        disappointed   \n",
       "568451            Perfect for our maltipoo   \n",
       "568452  Favorite Training and reward treat   \n",
       "568453                         Great Honey   \n",
       "\n",
       "                                                     Text  ...  \\\n",
       "0       I have bought several of the Vitality canned d...  ...   \n",
       "1       Product arrived labeled as Jumbo Salted Peanut...  ...   \n",
       "2       This is a confection that has been around a fe...  ...   \n",
       "3       If you are looking for the secret ingredient i...  ...   \n",
       "4       Great taffy at a great price.  There was a wid...  ...   \n",
       "...                                                   ...  ...   \n",
       "568449  Great for sesame chicken..this is a good if no...  ...   \n",
       "568450  I'm disappointed with the flavor. The chocolat...  ...   \n",
       "568451  These stars are small, so you can give 10-15 o...  ...   \n",
       "568452  These are the BEST treats for training and rew...  ...   \n",
       "568453  I am very satisfied ,product is as advertised,...  ...   \n",
       "\n",
       "        text_punctuation_count  sum_punctuation_count  sum_word_density  \\\n",
       "0                            3                      0          4.200000   \n",
       "1                            7                      0          4.250000   \n",
       "2                           18                      2          4.200000   \n",
       "3                            5                      0          4.666667   \n",
       "4                            5                      0          3.666667   \n",
       "...                        ...                    ...               ...   \n",
       "568449                       8                      0          3.800000   \n",
       "568450                       9                      0          6.000000   \n",
       "568451                      11                      0          4.800000   \n",
       "568452                       3                      0          5.666667   \n",
       "568453                       5                      0          3.666667   \n",
       "\n",
       "        text_word_density  sum_polarity  sum_subjectivity  text_polarity  \\\n",
       "0                5.367347          0.70              0.60       0.450000   \n",
       "1                5.937500          0.00              0.00      -0.033333   \n",
       "2                5.357895          0.00              0.00       0.133571   \n",
       "3                5.214286          0.00              0.00       0.166667   \n",
       "4                5.000000          0.80              0.75       0.483333   \n",
       "...                   ...           ...               ...            ...   \n",
       "568449           5.518519          0.00              0.00       0.365000   \n",
       "568450           5.361702         -0.75              0.75      -0.208333   \n",
       "568451           5.552239          1.00              1.00      -0.021875   \n",
       "568452           5.555556          0.50              1.00       0.517857   \n",
       "568453           5.045455          0.80              0.75       0.156410   \n",
       "\n",
       "        text_subjectivity  sum_sentiment_score  text_sentiment_score  \n",
       "0                0.433333                  5.0                  16.0  \n",
       "1                0.762963                  0.0                  -2.0  \n",
       "2                0.448571                  3.0                   3.0  \n",
       "3                0.533333                  0.0                   3.0  \n",
       "4                0.637500                  3.0                   9.0  \n",
       "...                   ...                  ...                   ...  \n",
       "568449           0.605000                  0.0                  11.0  \n",
       "568450           0.408333                 -2.0                  -3.0  \n",
       "568451           0.418750                  3.0                   4.0  \n",
       "568452           0.678571                  4.0                  15.0  \n",
       "568453           0.653846                  3.0                   2.0  \n",
       "\n",
       "[568454 rows x 26 columns]"
      ]
     },
     "execution_count": 56,
     "metadata": {},
     "output_type": "execute_result"
    }
   ],
   "source": [
    "df"
   ]
  },
  {
   "cell_type": "code",
   "execution_count": 57,
   "id": "fc4a0ded",
   "metadata": {},
   "outputs": [],
   "source": [
    "df.to_csv(\"Engineered_Reviews.csv\")"
   ]
  },
  {
   "cell_type": "markdown",
   "id": "bc66fc60",
   "metadata": {},
   "source": [
    "### Manually Engineered Modeling"
   ]
  },
  {
   "cell_type": "code",
   "execution_count": 17,
   "id": "dafe8820",
   "metadata": {},
   "outputs": [],
   "source": [
    "df = pd.read_csv(\"Engineered_Reviews.csv\")"
   ]
  },
  {
   "cell_type": "code",
   "execution_count": 18,
   "id": "d51d1b64",
   "metadata": {},
   "outputs": [
    {
     "data": {
      "text/plain": [
       "Index(['Unnamed: 0', 'Id', 'ProductId', 'UserId', 'ProfileName',\n",
       "       'HelpfulnessNumerator', 'HelpfulnessDenominator', 'Score', 'Time',\n",
       "       'Summary', 'Text', 'HelpfulnessProp', 'sum_char_count',\n",
       "       'sum_word_count', 'text_char_count', 'text_word_count',\n",
       "       'text_stopword_count', 'text_punctuation_count',\n",
       "       'sum_punctuation_count', 'sum_word_density', 'text_word_density',\n",
       "       'sum_polarity', 'sum_subjectivity', 'text_polarity',\n",
       "       'text_subjectivity', 'sum_sentiment_score', 'text_sentiment_score'],\n",
       "      dtype='object')"
      ]
     },
     "execution_count": 18,
     "metadata": {},
     "output_type": "execute_result"
    }
   ],
   "source": [
    "df.columns"
   ]
  },
  {
   "cell_type": "code",
   "execution_count": 19,
   "id": "b23dca6c",
   "metadata": {},
   "outputs": [],
   "source": [
    "mean = df.HelpfulnessProp.mean()\n",
    "df['HelpfulnessProp'].fillna(value=mean, inplace=True)"
   ]
  },
  {
   "cell_type": "code",
   "execution_count": 20,
   "id": "db7a80a7",
   "metadata": {},
   "outputs": [],
   "source": [
    "X = df.drop(columns = [\"Unnamed: 0\", \"Id\", \"ProductId\", \"UserId\", \"ProfileName\", \"Score\", \"Time\", \"Summary\", \"Text\"])"
   ]
  },
  {
   "cell_type": "markdown",
   "id": "37751731",
   "metadata": {},
   "source": [
    "#### Multiclass Classification"
   ]
  },
  {
   "cell_type": "code",
   "execution_count": 21,
   "id": "2f764dcb",
   "metadata": {},
   "outputs": [],
   "source": [
    "Y = df[\"Score\"].astype(str)\n",
    "X = X.to_numpy()\n",
    "X_train, X_test, y_train, y_test = train_test_split(X, Y, test_size=0.15, random_state=42)"
   ]
  },
  {
   "cell_type": "markdown",
   "id": "3aab4a40",
   "metadata": {},
   "source": [
    "KNN"
   ]
  },
  {
   "cell_type": "code",
   "execution_count": 130,
   "id": "8ba96dbc",
   "metadata": {},
   "outputs": [],
   "source": [
    "#Scale X\n",
    "scaler = StandardScaler()\n",
    "scaler.fit(X_train)\n",
    "X_train_scaled = scaler.transform(X_train)\n",
    "X_test_scaled = scaler.transform(X_test)"
   ]
  },
  {
   "cell_type": "code",
   "execution_count": 131,
   "id": "de8f8b97",
   "metadata": {},
   "outputs": [],
   "source": [
    "nn = KNeighborsClassifier(n_neighbors=5)\n",
    "nn.fit(X_train_scaled, y_train)\n",
    "y_pred = nn.predict(X_test_scaled)"
   ]
  },
  {
   "cell_type": "code",
   "execution_count": 132,
   "id": "d368c919",
   "metadata": {},
   "outputs": [
    {
     "data": {
      "text/plain": [
       "0.7161692970372344"
      ]
     },
     "execution_count": 132,
     "metadata": {},
     "output_type": "execute_result"
    }
   ],
   "source": [
    "f1_score(y_test, y_pred, average='weighted')"
   ]
  },
  {
   "cell_type": "code",
   "execution_count": 133,
   "id": "67e288f9",
   "metadata": {},
   "outputs": [],
   "source": [
    "nn = KNeighborsClassifier(n_neighbors=10)\n",
    "nn.fit(X_train_scaled, y_train)\n",
    "y_pred = nn.predict(X_test_scaled)"
   ]
  },
  {
   "cell_type": "code",
   "execution_count": 134,
   "id": "b1a2fabc",
   "metadata": {},
   "outputs": [
    {
     "data": {
      "text/plain": [
       "0.6891569688609583"
      ]
     },
     "execution_count": 134,
     "metadata": {},
     "output_type": "execute_result"
    }
   ],
   "source": [
    "f1_score(y_test, y_pred, average='weighted')"
   ]
  },
  {
   "cell_type": "code",
   "execution_count": 135,
   "id": "e375464f",
   "metadata": {},
   "outputs": [
    {
     "data": {
      "text/plain": [
       "0.7087338334681963"
      ]
     },
     "execution_count": 135,
     "metadata": {},
     "output_type": "execute_result"
    }
   ],
   "source": [
    "nn = KNeighborsClassifier(n_neighbors=6)\n",
    "nn.fit(X_train_scaled, y_train)\n",
    "y_pred = nn.predict(X_test_scaled)\n",
    "f1_score(y_test, y_pred, average='weighted')"
   ]
  },
  {
   "cell_type": "code",
   "execution_count": 137,
   "id": "a7b44134",
   "metadata": {},
   "outputs": [
    {
     "data": {
      "text/plain": [
       "0.7189004495639094"
      ]
     },
     "execution_count": 137,
     "metadata": {},
     "output_type": "execute_result"
    }
   ],
   "source": [
    "nn = KNeighborsClassifier(n_neighbors=4)\n",
    "nn.fit(X_train_scaled, y_train)\n",
    "y_pred = nn.predict(X_test_scaled)\n",
    "f1_score(y_test, y_pred, average='weighted')"
   ]
  },
  {
   "cell_type": "code",
   "execution_count": 138,
   "id": "f8f30a77",
   "metadata": {},
   "outputs": [
    {
     "data": {
      "text/plain": [
       "0.7261916139899334"
      ]
     },
     "execution_count": 138,
     "metadata": {},
     "output_type": "execute_result"
    }
   ],
   "source": [
    "nn = KNeighborsClassifier(n_neighbors=3)\n",
    "nn.fit(X_train_scaled, y_train)\n",
    "y_pred = nn.predict(X_test_scaled)\n",
    "f1_score(y_test, y_pred, average='weighted')"
   ]
  },
  {
   "cell_type": "code",
   "execution_count": 139,
   "id": "9ddd3f9f",
   "metadata": {},
   "outputs": [
    {
     "data": {
      "text/plain": [
       "0.7009400883137489"
      ]
     },
     "execution_count": 139,
     "metadata": {},
     "output_type": "execute_result"
    }
   ],
   "source": [
    "nn = KNeighborsClassifier(n_neighbors=2)\n",
    "nn.fit(X_train_scaled, y_train)\n",
    "y_pred = nn.predict(X_test_scaled)\n",
    "f1_score(y_test, y_pred, average='weighted')"
   ]
  },
  {
   "cell_type": "code",
   "execution_count": 140,
   "id": "7f4315c1",
   "metadata": {},
   "outputs": [
    {
     "data": {
      "text/plain": [
       "0.7029930351094281"
      ]
     },
     "execution_count": 140,
     "metadata": {},
     "output_type": "execute_result"
    }
   ],
   "source": [
    "nn = KNeighborsClassifier(n_neighbors=7)\n",
    "nn.fit(X_train_scaled, y_train)\n",
    "y_pred = nn.predict(X_test_scaled)\n",
    "f1_score(y_test, y_pred, average='weighted')"
   ]
  },
  {
   "cell_type": "code",
   "execution_count": 2,
   "id": "741edec3",
   "metadata": {},
   "outputs": [
    {
     "data": {
      "text/plain": [
       "Text(0.5, 1.0, 'Number of Neighbors vs. F1 Score')"
      ]
     },
     "execution_count": 2,
     "metadata": {},
     "output_type": "execute_result"
    },
    {
     "data": {
      "image/png": "[encoded data removed]",
      "text/plain": [
       "<Figure size 600x300 with 1 Axes>"
      ]
     },
     "metadata": {},
     "output_type": "display_data"
    }
   ],
   "source": [
    "neighbors = [2,3,4,5,6,7,10]\n",
    "f1_test = [0.7009400883137489, 0.7261916139899334, 0.7189004495639094, 0.7161692970372344, 0.7087338334681963, 0.7029930351094281, 0.6891569688609583]\n",
    "plt.figure(figsize=(6,3))\n",
    "plt.plot(neighbors, f1_test, '--bo')\n",
    "plt.xlabel(\"K Neighbors\")\n",
    "plt.ylabel(\"Test F1 Score\")\n",
    "plt.title(\"Number of Neighbors vs. F1 Score\")"
   ]
  },
  {
   "cell_type": "markdown",
   "id": "c7ac7502",
   "metadata": {},
   "source": [
    "Random Forest"
   ]
  },
  {
   "cell_type": "code",
   "execution_count": 49,
   "id": "d5207157",
   "metadata": {},
   "outputs": [
    {
     "data": {
      "text/plain": [
       "0.5938744046270403"
      ]
     },
     "execution_count": 49,
     "metadata": {},
     "output_type": "execute_result"
    }
   ],
   "source": [
    "params = {\n",
    "    \"n_estimators\": 100,\n",
    "    \"max_depth\": 10,\n",
    "    \"min_samples_split\": 5,\n",
    "    \"random_state\" : 42\n",
    "}\n",
    "\n",
    "rf = RandomForestClassifier(**params)\n",
    "rf.fit(X_train, y_train)\n",
    "y_pred = rf.predict(X_test)\n",
    "f1_score(y_test, y_pred, average='weighted')"
   ]
  },
  {
   "cell_type": "code",
   "execution_count": 50,
   "id": "87d98b83",
   "metadata": {},
   "outputs": [
    {
     "data": {
      "text/plain": [
       "0.604665324988109"
      ]
     },
     "execution_count": 50,
     "metadata": {},
     "output_type": "execute_result"
    }
   ],
   "source": [
    "params = {\n",
    "    \"n_estimators\": 100,\n",
    "    \"max_depth\": 11,\n",
    "    \"min_samples_split\": 5,\n",
    "    \"random_state\" : 42\n",
    "}\n",
    "\n",
    "rf = RandomForestClassifier(**params)\n",
    "rf.fit(X_train, y_train)\n",
    "y_pred = rf.predict(X_test)\n",
    "f1_score(y_test, y_pred, average='weighted')"
   ]
  },
  {
   "cell_type": "code",
   "execution_count": 55,
   "id": "5c59a0f0",
   "metadata": {},
   "outputs": [
    {
     "data": {
      "text/plain": [
       "0.6184981301518976"
      ]
     },
     "execution_count": 55,
     "metadata": {},
     "output_type": "execute_result"
    }
   ],
   "source": [
    "params = {\n",
    "    \"n_estimators\": 100,\n",
    "    \"max_depth\": 12,\n",
    "    \"min_samples_split\": 5,\n",
    "    \"random_state\" : 42\n",
    "}\n",
    "\n",
    "rf = RandomForestClassifier(**params)\n",
    "rf.fit(X_train, y_train)\n",
    "y_pred = rf.predict(X_test)\n",
    "f1_score(y_test, y_pred, average='weighted')"
   ]
  },
  {
   "cell_type": "code",
   "execution_count": 54,
   "id": "38b1b644",
   "metadata": {},
   "outputs": [
    {
     "data": {
      "text/plain": [
       "0.6681434673195206"
      ]
     },
     "execution_count": 54,
     "metadata": {},
     "output_type": "execute_result"
    }
   ],
   "source": [
    "params = {\n",
    "    \"n_estimators\": 100,\n",
    "    \"max_depth\": 15,\n",
    "    \"min_samples_split\": 5,\n",
    "    \"random_state\" : 42\n",
    "}\n",
    "\n",
    "rf = RandomForestClassifier(**params)\n",
    "rf.fit(X_train, y_train)\n",
    "y_pred = rf.predict(X_test)\n",
    "f1_score(y_test, y_pred, average='weighted')"
   ]
  },
  {
   "cell_type": "code",
   "execution_count": 58,
   "id": "2c1ef10a",
   "metadata": {},
   "outputs": [
    {
     "data": {
      "text/plain": [
       "0.7395095079986637"
      ]
     },
     "execution_count": 58,
     "metadata": {},
     "output_type": "execute_result"
    }
   ],
   "source": [
    "params = {\n",
    "    \"n_estimators\": 100,\n",
    "    \"max_depth\": 20,\n",
    "    \"min_samples_split\": 5,\n",
    "    \"random_state\" : 42\n",
    "}\n",
    "\n",
    "rf = RandomForestClassifier(**params)\n",
    "rf.fit(X_train, y_train)\n",
    "y_pred = rf.predict(X_test)\n",
    "f1_score(y_test, y_pred, average='weighted')"
   ]
  },
  {
   "cell_type": "code",
   "execution_count": 52,
   "id": "c175d9b3",
   "metadata": {},
   "outputs": [
    {
     "data": {
      "text/plain": [
       "0.6194655419667296"
      ]
     },
     "execution_count": 52,
     "metadata": {},
     "output_type": "execute_result"
    }
   ],
   "source": [
    "params = {\n",
    "    \"n_estimators\": 100,\n",
    "    \"max_depth\": 12,\n",
    "    \"min_samples_split\": 3,\n",
    "    \"random_state\" : 42\n",
    "}\n",
    "\n",
    "rf = RandomForestClassifier(**params)\n",
    "rf.fit(X_train, y_train)\n",
    "y_pred = rf.predict(X_test)\n",
    "f1_score(y_test, y_pred, average='weighted')"
   ]
  },
  {
   "cell_type": "code",
   "execution_count": 51,
   "id": "deac30cd",
   "metadata": {},
   "outputs": [
    {
     "data": {
      "text/plain": [
       "0.6691405449441674"
      ]
     },
     "execution_count": 51,
     "metadata": {},
     "output_type": "execute_result"
    }
   ],
   "source": [
    "params = {\n",
    "    \"n_estimators\": 100,\n",
    "    \"max_depth\": 15,\n",
    "    \"min_samples_split\": 3,\n",
    "    \"random_state\" : 42\n",
    "}\n",
    "\n",
    "rf = RandomForestClassifier(**params)\n",
    "rf.fit(X_train, y_train)\n",
    "y_pred = rf.predict(X_test)\n",
    "f1_score(y_test, y_pred, average='weighted')"
   ]
  },
  {
   "cell_type": "code",
   "execution_count": 53,
   "id": "f156b1f8",
   "metadata": {},
   "outputs": [
    {
     "data": {
      "text/plain": [
       "0.74340910536903"
      ]
     },
     "execution_count": 53,
     "metadata": {},
     "output_type": "execute_result"
    }
   ],
   "source": [
    "params = {\n",
    "    \"n_estimators\": 100,\n",
    "    \"max_depth\": 20,\n",
    "    \"min_samples_split\": 3,\n",
    "    \"random_state\" : 42\n",
    "}\n",
    "\n",
    "rf = RandomForestClassifier(**params)\n",
    "rf.fit(X_train, y_train)\n",
    "y_pred = rf.predict(X_test)\n",
    "f1_score(y_test, y_pred, average='weighted')"
   ]
  },
  {
   "cell_type": "code",
   "execution_count": 56,
   "id": "96580c00",
   "metadata": {},
   "outputs": [
    {
     "data": {
      "text/plain": [
       "0.7183017238302456"
      ]
     },
     "execution_count": 56,
     "metadata": {},
     "output_type": "execute_result"
    }
   ],
   "source": [
    "params = {\n",
    "    \"n_estimators\": 100,\n",
    "    \"max_depth\": 18,\n",
    "    \"min_samples_split\": 3,\n",
    "    \"random_state\" : 42\n",
    "}\n",
    "\n",
    "rf = RandomForestClassifier(**params)\n",
    "rf.fit(X_train, y_train)\n",
    "y_pred = rf.predict(X_test)\n",
    "f1_score(y_test, y_pred, average='weighted')"
   ]
  },
  {
   "cell_type": "code",
   "execution_count": 57,
   "id": "69418f37",
   "metadata": {},
   "outputs": [
    {
     "data": {
      "text/plain": [
       "0.7618215645888468"
      ]
     },
     "execution_count": 57,
     "metadata": {},
     "output_type": "execute_result"
    }
   ],
   "source": [
    "params = {\n",
    "    \"n_estimators\": 100,\n",
    "    \"max_depth\": 22,\n",
    "    \"min_samples_split\": 3,\n",
    "    \"random_state\" : 42\n",
    "}\n",
    "\n",
    "rf = RandomForestClassifier(**params)\n",
    "rf.fit(X_train, y_train)\n",
    "y_pred = rf.predict(X_test)\n",
    "f1_score(y_test, y_pred, average='weighted')"
   ]
  },
  {
   "cell_type": "code",
   "execution_count": 59,
   "id": "45492102",
   "metadata": {},
   "outputs": [
    {
     "data": {
      "text/plain": [
       "0.7790411014217843"
      ]
     },
     "execution_count": 59,
     "metadata": {},
     "output_type": "execute_result"
    }
   ],
   "source": [
    "params = {\n",
    "    \"n_estimators\": 100,\n",
    "    \"max_depth\": 25,\n",
    "    \"min_samples_split\": 3,\n",
    "    \"random_state\" : 42\n",
    "}\n",
    "\n",
    "rf = RandomForestClassifier(**params)\n",
    "rf.fit(X_train, y_train)\n",
    "y_pred = rf.predict(X_test)\n",
    "f1_score(y_test, y_pred, average='weighted')"
   ]
  },
  {
   "cell_type": "code",
   "execution_count": 62,
   "id": "32eb4450",
   "metadata": {},
   "outputs": [
    {
     "data": {
      "text/plain": [
       "0.8040084907762493"
      ]
     },
     "execution_count": 62,
     "metadata": {},
     "output_type": "execute_result"
    }
   ],
   "source": [
    "accuracy_score(y_test, y_pred)"
   ]
  },
  {
   "cell_type": "code",
   "execution_count": 63,
   "id": "6d45ca73",
   "metadata": {},
   "outputs": [
    {
     "data": {
      "text/plain": [
       "0.7814360830804621"
      ]
     },
     "execution_count": 63,
     "metadata": {},
     "output_type": "execute_result"
    }
   ],
   "source": [
    "params = {\n",
    "    \"n_estimators\": 100,\n",
    "    \"max_depth\": 25,\n",
    "    \"min_samples_split\": 2,\n",
    "    \"random_state\" : 42\n",
    "}\n",
    "\n",
    "rf = RandomForestClassifier(**params)\n",
    "rf.fit(X_train, y_train)\n",
    "y_pred = rf.predict(X_test)\n",
    "f1_score(y_test, y_pred, average='weighted')"
   ]
  },
  {
   "cell_type": "code",
   "execution_count": 64,
   "id": "f69836de",
   "metadata": {},
   "outputs": [
    {
     "data": {
      "text/plain": [
       "0.805697263952902"
      ]
     },
     "execution_count": 64,
     "metadata": {},
     "output_type": "execute_result"
    }
   ],
   "source": [
    "accuracy_score(y_test, y_pred)"
   ]
  },
  {
   "cell_type": "code",
   "execution_count": 65,
   "id": "6a1dc82c",
   "metadata": {},
   "outputs": [
    {
     "data": {
      "text/plain": [
       "0.7873840755596045"
      ]
     },
     "execution_count": 65,
     "metadata": {},
     "output_type": "execute_result"
    }
   ],
   "source": [
    "params = {\n",
    "    \"n_estimators\": 100,\n",
    "    \"max_depth\": 28,\n",
    "    \"min_samples_split\": 3,\n",
    "    \"random_state\" : 42\n",
    "}\n",
    "\n",
    "rf = RandomForestClassifier(**params)\n",
    "rf.fit(X_train, y_train)\n",
    "y_pred = rf.predict(X_test)\n",
    "f1_score(y_test, y_pred, average='weighted')"
   ]
  },
  {
   "cell_type": "code",
   "execution_count": 66,
   "id": "1b38e00c",
   "metadata": {},
   "outputs": [
    {
     "data": {
      "text/plain": [
       "0.8099543796690474"
      ]
     },
     "execution_count": 66,
     "metadata": {},
     "output_type": "execute_result"
    }
   ],
   "source": [
    "accuracy_score(y_test, y_pred)"
   ]
  },
  {
   "cell_type": "code",
   "execution_count": 71,
   "id": "07c82ad6",
   "metadata": {},
   "outputs": [
    {
     "data": {
      "text/plain": [
       "0.7884346831373298"
      ]
     },
     "execution_count": 71,
     "metadata": {},
     "output_type": "execute_result"
    }
   ],
   "source": [
    "params = {\n",
    "    \"n_estimators\": 100,\n",
    "    \"max_depth\": 28,\n",
    "    \"min_samples_split\": 2,\n",
    "    \"random_state\" : 42\n",
    "}\n",
    "\n",
    "rf = RandomForestClassifier(**params)\n",
    "rf.fit(X_train, y_train)\n",
    "y_pred = rf.predict(X_test)\n",
    "f1_score(y_test, y_pred, average='weighted')"
   ]
  },
  {
   "cell_type": "code",
   "execution_count": 72,
   "id": "9685e537",
   "metadata": {},
   "outputs": [
    {
     "data": {
      "text/plain": [
       "0.8105524868357785"
      ]
     },
     "execution_count": 72,
     "metadata": {},
     "output_type": "execute_result"
    }
   ],
   "source": [
    "accuracy_score(y_test, y_pred)"
   ]
  },
  {
   "cell_type": "code",
   "execution_count": 67,
   "id": "396b2040",
   "metadata": {},
   "outputs": [
    {
     "data": {
      "text/plain": [
       "0.7895273332066665"
      ]
     },
     "execution_count": 67,
     "metadata": {},
     "output_type": "execute_result"
    }
   ],
   "source": [
    "params = {\n",
    "    \"n_estimators\": 100,\n",
    "    \"max_depth\": 30,\n",
    "    \"min_samples_split\": 3,\n",
    "    \"random_state\" : 42\n",
    "}\n",
    "\n",
    "rf = RandomForestClassifier(**params)\n",
    "rf.fit(X_train, y_train)\n",
    "y_pred = rf.predict(X_test)\n",
    "f1_score(y_test, y_pred, average='weighted')"
   ]
  },
  {
   "cell_type": "code",
   "execution_count": 68,
   "id": "0913542f",
   "metadata": {},
   "outputs": [
    {
     "data": {
      "text/plain": [
       "0.8113265078750777"
      ]
     },
     "execution_count": 68,
     "metadata": {},
     "output_type": "execute_result"
    }
   ],
   "source": [
    "accuracy_score(y_test, y_pred)"
   ]
  },
  {
   "cell_type": "code",
   "execution_count": 69,
   "id": "7eb18483",
   "metadata": {},
   "outputs": [
    {
     "data": {
      "text/plain": [
       "0.7903040932875146"
      ]
     },
     "execution_count": 69,
     "metadata": {},
     "output_type": "execute_result"
    }
   ],
   "source": [
    "params = {\n",
    "    \"n_estimators\": 100,\n",
    "    \"max_depth\": 30,\n",
    "    \"min_samples_split\": 2,\n",
    "    \"random_state\" : 42\n",
    "}\n",
    "\n",
    "rf = RandomForestClassifier(**params)\n",
    "rf.fit(X_train, y_train)\n",
    "y_pred = rf.predict(X_test)\n",
    "f1_score(y_test, y_pred, average='weighted')"
   ]
  },
  {
   "cell_type": "code",
   "execution_count": 70,
   "id": "023deb30",
   "metadata": {},
   "outputs": [
    {
     "data": {
      "text/plain": [
       "0.8119246150418089"
      ]
     },
     "execution_count": 70,
     "metadata": {},
     "output_type": "execute_result"
    }
   ],
   "source": [
    "accuracy_score(y_test, y_pred)"
   ]
  },
  {
   "cell_type": "code",
   "execution_count": 73,
   "id": "24b7a40b",
   "metadata": {},
   "outputs": [
    {
     "data": {
      "text/plain": [
       "0.7905797750538617"
      ]
     },
     "execution_count": 73,
     "metadata": {},
     "output_type": "execute_result"
    }
   ],
   "source": [
    "params = {\n",
    "    \"n_estimators\": 100,\n",
    "    \"max_depth\": 32,\n",
    "    \"min_samples_split\": 3,\n",
    "    \"random_state\" : 42\n",
    "}\n",
    "\n",
    "rf = RandomForestClassifier(**params)\n",
    "rf.fit(X_train, y_train)\n",
    "y_pred = rf.predict(X_test)\n",
    "f1_score(y_test, y_pred, average='weighted')"
   ]
  },
  {
   "cell_type": "code",
   "execution_count": 74,
   "id": "1b9e4642",
   "metadata": {},
   "outputs": [
    {
     "data": {
      "text/plain": [
       "0.8121357116888904"
      ]
     },
     "execution_count": 74,
     "metadata": {},
     "output_type": "execute_result"
    }
   ],
   "source": [
    "accuracy_score(y_test, y_pred)"
   ]
  },
  {
   "cell_type": "code",
   "execution_count": 75,
   "id": "6f7bf197",
   "metadata": {},
   "outputs": [
    {
     "data": {
      "text/plain": [
       "0.790740672756191"
      ]
     },
     "execution_count": 75,
     "metadata": {},
     "output_type": "execute_result"
    }
   ],
   "source": [
    "params = {\n",
    "    \"n_estimators\": 100,\n",
    "    \"max_depth\": 32,\n",
    "    \"min_samples_split\": 2,\n",
    "    \"random_state\" : 42\n",
    "}\n",
    "\n",
    "rf = RandomForestClassifier(**params)\n",
    "rf.fit(X_train, y_train)\n",
    "y_pred = rf.predict(X_test)\n",
    "f1_score(y_test, y_pred, average='weighted')"
   ]
  },
  {
   "cell_type": "code",
   "execution_count": 76,
   "id": "37c1dc67",
   "metadata": {},
   "outputs": [
    {
     "data": {
      "text/plain": [
       "0.8120418909568542"
      ]
     },
     "execution_count": 76,
     "metadata": {},
     "output_type": "execute_result"
    }
   ],
   "source": [
    "accuracy_score(y_test, y_pred)"
   ]
  },
  {
   "cell_type": "code",
   "execution_count": 79,
   "id": "992c12bd",
   "metadata": {},
   "outputs": [
    {
     "data": {
      "text/plain": [
       "0.7895256528900332"
      ]
     },
     "execution_count": 79,
     "metadata": {},
     "output_type": "execute_result"
    }
   ],
   "source": [
    "params = {\n",
    "    \"n_estimators\": 100,\n",
    "    \"max_depth\": 32,\n",
    "    \"min_samples_split\": 4,\n",
    "    \"random_state\" : 42\n",
    "}\n",
    "\n",
    "rf = RandomForestClassifier(**params)\n",
    "rf.fit(X_train, y_train)\n",
    "y_pred = rf.predict(X_test)\n",
    "f1_score(y_test, y_pred, average='weighted')"
   ]
  },
  {
   "cell_type": "code",
   "execution_count": 77,
   "id": "8083c741",
   "metadata": {},
   "outputs": [
    {
     "data": {
      "text/plain": [
       "0.791293614808889"
      ]
     },
     "execution_count": 77,
     "metadata": {},
     "output_type": "execute_result"
    }
   ],
   "source": [
    "params = {\n",
    "    \"n_estimators\": 100,\n",
    "    \"max_depth\": 35,\n",
    "    \"min_samples_split\": 3,\n",
    "    \"random_state\" : 42\n",
    "}\n",
    "\n",
    "rf = RandomForestClassifier(**params)\n",
    "rf.fit(X_train, y_train)\n",
    "y_pred = rf.predict(X_test)\n",
    "f1_score(y_test, y_pred, average='weighted')"
   ]
  },
  {
   "cell_type": "code",
   "execution_count": 16,
   "id": "cb758131",
   "metadata": {},
   "outputs": [
    {
     "data": {
      "text/plain": [
       "0.7909964136050438"
      ]
     },
     "execution_count": 16,
     "metadata": {},
     "output_type": "execute_result"
    }
   ],
   "source": [
    "params = {\n",
    "    \"n_estimators\": 100,\n",
    "    \"max_depth\": 38,\n",
    "    \"min_samples_split\": 3,\n",
    "    \"random_state\" : 42\n",
    "}\n",
    "\n",
    "rf = RandomForestClassifier(**params)\n",
    "rf.fit(X_train, y_train)\n",
    "y_pred = rf.predict(X_test)\n",
    "f1_score(y_test, y_pred, average='weighted')"
   ]
  },
  {
   "cell_type": "code",
   "execution_count": 17,
   "id": "a019dc8c",
   "metadata": {},
   "outputs": [
    {
     "data": {
      "text/plain": [
       "0.7900379718593276"
      ]
     },
     "execution_count": 17,
     "metadata": {},
     "output_type": "execute_result"
    }
   ],
   "source": [
    "params = {\n",
    "    \"n_estimators\": 100,\n",
    "    \"max_depth\": 38,\n",
    "    \"min_samples_split\": 5,\n",
    "    \"random_state\" : 42\n",
    "}\n",
    "\n",
    "rf = RandomForestClassifier(**params)\n",
    "rf.fit(X_train, y_train)\n",
    "y_pred = rf.predict(X_test)\n",
    "f1_score(y_test, y_pred, average='weighted')"
   ]
  },
  {
   "cell_type": "code",
   "execution_count": 20,
   "id": "abe47684",
   "metadata": {},
   "outputs": [
    {
     "data": {
      "text/plain": [
       "0.7916055957564837"
      ]
     },
     "execution_count": 20,
     "metadata": {},
     "output_type": "execute_result"
    }
   ],
   "source": [
    "params = {\n",
    "    \"n_estimators\": 100,\n",
    "    \"max_depth\": 40,\n",
    "    \"min_samples_split\": 3,\n",
    "    \"random_state\" : 42\n",
    "}\n",
    "\n",
    "rf = RandomForestClassifier(**params) ## THE BEST!\n",
    "rf.fit(X_train, y_train)\n",
    "y_pred = rf.predict(X_test)\n",
    "f1_score(y_test, y_pred, average='weighted')"
   ]
  },
  {
   "cell_type": "code",
   "execution_count": 22,
   "id": "ad4e37db",
   "metadata": {},
   "outputs": [],
   "source": [
    "from sklearn.metrics import accuracy_score"
   ]
  },
  {
   "cell_type": "code",
   "execution_count": 23,
   "id": "f2c22a9b",
   "metadata": {},
   "outputs": [
    {
     "data": {
      "text/plain": [
       "0.812698636081108"
      ]
     },
     "execution_count": 23,
     "metadata": {},
     "output_type": "execute_result"
    }
   ],
   "source": [
    "accuracy_score(y_test, y_pred)"
   ]
  },
  {
   "cell_type": "code",
   "execution_count": 24,
   "id": "2a516765",
   "metadata": {},
   "outputs": [],
   "source": [
    "from sklearn.metrics import confusion_matrix\n",
    "import seaborn as sns\n",
    "cm = confusion_matrix(y_test, y_pred)\n",
    "cm"
   ]
  },
  {
   "cell_type": "code",
   "execution_count": 26,
   "id": "fcc932a8",
   "metadata": {},
   "outputs": [],
   "source": [
    "import seaborn as sns"
   ]
  },
  {
   "cell_type": "code",
   "execution_count": 29,
   "id": "e1c45a0a",
   "metadata": {},
   "outputs": [
    {
     "data": {
      "text/plain": [
       "array([[ 6039,   166,   102,    31,  1462],\n",
       "       [  983,  1943,   128,    50,  1342],\n",
       "       [  610,   102,  2717,   156,  2728],\n",
       "       [  313,    48,   141,  5018,  6477],\n",
       "       [  658,    72,   139,   263, 53581]])"
      ]
     },
     "execution_count": 29,
     "metadata": {},
     "output_type": "execute_result"
    }
   ],
   "source": [
    "cm"
   ]
  },
  {
   "cell_type": "code",
   "execution_count": 33,
   "id": "f53b940f",
   "metadata": {},
   "outputs": [
    {
     "data": {
      "image/png": "[encoded data removed]",
      "text/plain": [
       "<Figure size 600x400 with 2 Axes>"
      ]
     },
     "metadata": {},
     "output_type": "display_data"
    }
   ],
   "source": [
    "f, ax = plt.subplots(figsize=(6, 4))\n",
    "sns.heatmap(pd.DataFrame(cm), annot=True, cmap='Blues', fmt='g')\n",
    "\n",
    "plt.title(\"Confusion Matrix\")\n",
    "plt.xlabel(\"Predicted Labels\")\n",
    "plt.ylabel(\"Actual Labels\")\n",
    "plt.show()   "
   ]
  },
  {
   "cell_type": "code",
   "execution_count": 18,
   "id": "6902c1e1",
   "metadata": {},
   "outputs": [
    {
     "data": {
      "text/plain": [
       "0.7915800104408862"
      ]
     },
     "execution_count": 18,
     "metadata": {},
     "output_type": "execute_result"
    }
   ],
   "source": [
    "params = {\n",
    "    \"n_estimators\": 100,\n",
    "    \"max_depth\": 45,\n",
    "    \"min_samples_split\": 3,\n",
    "    \"random_state\" : 42\n",
    "}\n",
    "\n",
    "rf = RandomForestClassifier(**params)\n",
    "rf.fit(X_train, y_train)\n",
    "y_pred = rf.predict(X_test)\n",
    "f1_score(y_test, y_pred, average='weighted')"
   ]
  },
  {
   "cell_type": "code",
   "execution_count": 19,
   "id": "0d7545bb",
   "metadata": {},
   "outputs": [
    {
     "data": {
      "text/plain": [
       "0.790119852198609"
      ]
     },
     "execution_count": 19,
     "metadata": {},
     "output_type": "execute_result"
    }
   ],
   "source": [
    "params = {\n",
    "    \"n_estimators\": 100,\n",
    "    \"max_depth\": 45,\n",
    "    \"min_samples_split\": 5,\n",
    "    \"random_state\" : 42\n",
    "}\n",
    "\n",
    "rf = RandomForestClassifier(**params)\n",
    "rf.fit(X_train, y_train)\n",
    "y_pred = rf.predict(X_test)\n",
    "f1_score(y_test, y_pred, average='weighted')"
   ]
  },
  {
   "cell_type": "code",
   "execution_count": 12,
   "id": "9b86118c",
   "metadata": {},
   "outputs": [
    {
     "data": {
      "text/plain": [
       "0.7910739600061333"
      ]
     },
     "execution_count": 12,
     "metadata": {},
     "output_type": "execute_result"
    }
   ],
   "source": [
    "params = {\n",
    "    \"n_estimators\": 100,\n",
    "    \"max_depth\": 50,\n",
    "    \"min_samples_split\": 3,\n",
    "    \"random_state\" : 42\n",
    "}\n",
    "\n",
    "rf = RandomForestClassifier(**params)\n",
    "rf.fit(X_train, y_train)\n",
    "y_pred = rf.predict(X_test)\n",
    "f1_score(y_test, y_pred, average='weighted')"
   ]
  },
  {
   "cell_type": "code",
   "execution_count": null,
   "id": "d145b69b",
   "metadata": {},
   "outputs": [
    {
     "data": {
      "text/plain": [
       "0.7904584055309829"
      ]
     },
     "execution_count": 13,
     "metadata": {},
     "output_type": "execute_result"
    }
   ],
   "source": [
    "params = {\n",
    "    \"n_estimators\": 100,\n",
    "    \"max_depth\": 50,\n",
    "    \"min_samples_split\": 5,\n",
    "    \"random_state\" : 42\n",
    "}\n",
    "\n",
    "rf = RandomForestClassifier(**params)\n",
    "rf.fit(X_train, y_train)\n",
    "y_pred = rf.predict(X_test)\n",
    "f1_score(y_test, y_pred, average='weighted')"
   ]
  },
  {
   "cell_type": "code",
   "execution_count": null,
   "id": "05047285",
   "metadata": {},
   "outputs": [
    {
     "data": {
      "text/plain": [
       "0.7912845231037056"
      ]
     },
     "execution_count": 14,
     "metadata": {},
     "output_type": "execute_result"
    }
   ],
   "source": [
    "params = {\n",
    "    \"n_estimators\": 100,\n",
    "    \"max_depth\": 60,\n",
    "    \"min_samples_split\": 3,\n",
    "    \"random_state\" : 42\n",
    "}\n",
    "\n",
    "rf = RandomForestClassifier(**params)\n",
    "rf.fit(X_train, y_train)\n",
    "y_pred = rf.predict(X_test)\n",
    "f1_score(y_test, y_pred, average='weighted')"
   ]
  },
  {
   "cell_type": "code",
   "execution_count": null,
   "id": "815ad989",
   "metadata": {},
   "outputs": [
    {
     "data": {
      "text/plain": [
       "0.7896082500094672"
      ]
     },
     "execution_count": 15,
     "metadata": {},
     "output_type": "execute_result"
    }
   ],
   "source": [
    "params = {\n",
    "    \"n_estimators\": 100,\n",
    "    \"max_depth\": 60,\n",
    "    \"min_samples_split\": 5,\n",
    "    \"random_state\" : 42\n",
    "}\n",
    "\n",
    "rf = RandomForestClassifier(**params)\n",
    "rf.fit(X_train, y_train)\n",
    "y_pred = rf.predict(X_test)\n",
    "f1_score(y_test, y_pred, average='weighted')"
   ]
  },
  {
   "cell_type": "code",
   "execution_count": 50,
   "id": "709cfb13",
   "metadata": {},
   "outputs": [],
   "source": [
    "max_depth_3 = [20, 22, 25, 28, 30, 32, 35, 38, 40, 50, 60, 45]\n",
    "f1_score_3 = [ 0.74341, 0.76182, 0.77904, 0.78738, 0.78953, 0.79058, \n",
    "           0.79129, 0.791, 0.79161, 0.79107, 0.79128, 0.79158]\n",
    "max_depth_5 = [20, 38, 50, 60, 45]\n",
    "f1_score_5 = [0.73951, 0.79001, 0.79046, 0.78961, 0.79012]"
   ]
  },
  {
   "cell_type": "code",
   "execution_count": 52,
   "id": "638e44de",
   "metadata": {},
   "outputs": [
    {
     "data": {
      "text/plain": [
       "<matplotlib.legend.Legend at 0x7fd75e7f95d0>"
      ]
     },
     "execution_count": 52,
     "metadata": {},
     "output_type": "execute_result"
    },
    {
     "data": {
      "image/png": "[encoded data removed]",
      "text/plain": [
       "<Figure size 1000x300 with 1 Axes>"
      ]
     },
     "metadata": {},
     "output_type": "display_data"
    }
   ],
   "source": [
    "plt.figure(figsize=(10,3))\n",
    "plt.plot(max_depth_3, f1_score_3, '--ro', label = \"Min Sample Split = 3\")\n",
    "plt.plot(max_depth_5, f1_score_5, '--bo', label = \"Min Sample Split = 5\")\n",
    "plt.xlabel(\"Max Depth\")\n",
    "plt.ylabel(\"Test F1 Score\")\n",
    "plt.title(\"Max Depth vs. F1 Score for Different Min Sample Split\")\n",
    "plt.legend(loc='lower right')"
   ]
  },
  {
   "cell_type": "markdown",
   "id": "8d20e44e",
   "metadata": {},
   "source": [
    "#### Binary Classification (1, 2, 3) vs. (4, 5)"
   ]
  },
  {
   "cell_type": "code",
   "execution_count": 23,
   "id": "ac5b95d1",
   "metadata": {},
   "outputs": [],
   "source": [
    "df[\"HighScore\"] = df['Score'].apply(lambda x: 1 if x >= 4 else 0)\n",
    "Y = df[\"HighScore\"].astype(str)"
   ]
  },
  {
   "cell_type": "markdown",
   "id": "ea4e5121",
   "metadata": {},
   "source": [
    "KNN"
   ]
  },
  {
   "cell_type": "code",
   "execution_count": 24,
   "id": "d068c7fa",
   "metadata": {},
   "outputs": [],
   "source": [
    "X_train, X_test, y_train, y_test = train_test_split(X, Y, test_size=0.15, random_state=42)"
   ]
  },
  {
   "cell_type": "code",
   "execution_count": 55,
   "id": "709500c0",
   "metadata": {},
   "outputs": [],
   "source": [
    "scaler = StandardScaler()\n",
    "scaler.fit(X_train)\n",
    "X_train_scaled = scaler.transform(X_train)\n",
    "X_test_scaled = scaler.transform(X_test)"
   ]
  },
  {
   "cell_type": "code",
   "execution_count": 65,
   "id": "a8795b48",
   "metadata": {},
   "outputs": [
    {
     "data": {
      "text/plain": [
       "0.8426589785251413"
      ]
     },
     "execution_count": 65,
     "metadata": {},
     "output_type": "execute_result"
    }
   ],
   "source": [
    "nn = KNeighborsClassifier(n_neighbors=5)\n",
    "nn.fit(X_train, y_train)\n",
    "y_pred = nn.predict(X_test)\n",
    "f1_score(y_test, y_pred, average='weighted')"
   ]
  },
  {
   "cell_type": "code",
   "execution_count": 61,
   "id": "4fb01a40",
   "metadata": {},
   "outputs": [],
   "source": [
    "from sklearn.metrics import accuracy_score"
   ]
  },
  {
   "cell_type": "code",
   "execution_count": 43,
   "id": "c2dd92df",
   "metadata": {},
   "outputs": [
    {
     "data": {
      "text/plain": [
       "0.8508250360623438"
      ]
     },
     "execution_count": 43,
     "metadata": {},
     "output_type": "execute_result"
    }
   ],
   "source": [
    "accuracy_score(y_test, y_pred)"
   ]
  },
  {
   "cell_type": "code",
   "execution_count": 69,
   "id": "21ffeb44",
   "metadata": {},
   "outputs": [
    {
     "name": "stdout",
     "output_type": "stream",
     "text": [
      "0.8841839019157115\n",
      "0.8865824625596641\n"
     ]
    }
   ],
   "source": [
    "nn = KNeighborsClassifier(n_neighbors=3)\n",
    "nn.fit(X_train_scaled, y_train)\n",
    "y_pred = nn.predict(X_test_scaled)\n",
    "print(f1_score(y_test, y_pred, average='weighted'))\n",
    "print(accuracy_score(y_test, y_pred))"
   ]
  },
  {
   "cell_type": "code",
   "execution_count": 115,
   "id": "d2144766",
   "metadata": {},
   "outputs": [
    {
     "name": "stdout",
     "output_type": "stream",
     "text": [
      "0.8728833762157182\n",
      "0.8774114860031196\n"
     ]
    }
   ],
   "source": [
    "nn = KNeighborsClassifier(n_neighbors=7)\n",
    "nn.fit(X_train_scaled, y_train)\n",
    "y_pred = nn.predict(X_test_scaled)\n",
    "print(f1_score(y_test, y_pred, average='weighted'))\n",
    "print(accuracy_score(y_test, y_pred))"
   ]
  },
  {
   "cell_type": "code",
   "execution_count": 116,
   "id": "2e78c650",
   "metadata": {},
   "outputs": [
    {
     "name": "stdout",
     "output_type": "stream",
     "text": [
      "0.8702156550449894\n",
      "0.8734827428491011\n"
     ]
    }
   ],
   "source": [
    "nn = KNeighborsClassifier(n_neighbors=10)\n",
    "nn.fit(X_train_scaled, y_train)\n",
    "y_pred = nn.predict(X_test_scaled)\n",
    "print(f1_score(y_test, y_pred, average='weighted'))\n",
    "print(accuracy_score(y_test, y_pred))"
   ]
  },
  {
   "cell_type": "code",
   "execution_count": 117,
   "id": "3ab67fbf",
   "metadata": {},
   "outputs": [
    {
     "name": "stdout",
     "output_type": "stream",
     "text": [
      "0.8787492349283998\n",
      "0.8779392276208235\n"
     ]
    }
   ],
   "source": [
    "nn = KNeighborsClassifier(n_neighbors=4)\n",
    "nn.fit(X_train_scaled, y_train)\n",
    "y_pred = nn.predict(X_test_scaled)\n",
    "print(f1_score(y_test, y_pred, average='weighted'))\n",
    "print(accuracy_score(y_test, y_pred))"
   ]
  },
  {
   "cell_type": "code",
   "execution_count": 118,
   "id": "0dd7ed17",
   "metadata": {},
   "outputs": [
    {
     "name": "stdout",
     "output_type": "stream",
     "text": [
      "0.8686522739512842\n",
      "0.8638192074493661\n"
     ]
    }
   ],
   "source": [
    "nn = KNeighborsClassifier(n_neighbors=2)\n",
    "nn.fit(X_train_scaled, y_train)\n",
    "y_pred = nn.predict(X_test_scaled)\n",
    "print(f1_score(y_test, y_pred, average='weighted'))\n",
    "print(accuracy_score(y_test, y_pred))"
   ]
  },
  {
   "cell_type": "code",
   "execution_count": 119,
   "id": "bfeb7676",
   "metadata": {},
   "outputs": [
    {
     "name": "stdout",
     "output_type": "stream",
     "text": [
      "0.8754745047970909\n",
      "0.8764732786827569\n"
     ]
    }
   ],
   "source": [
    "nn = KNeighborsClassifier(n_neighbors=6)\n",
    "nn.fit(X_train_scaled, y_train)\n",
    "y_pred = nn.predict(X_test_scaled)\n",
    "print(f1_score(y_test, y_pred, average='weighted'))\n",
    "print(accuracy_score(y_test, y_pred))"
   ]
  },
  {
   "cell_type": "code",
   "execution_count": 120,
   "id": "3fd6452a",
   "metadata": {},
   "outputs": [
    {
     "name": "stdout",
     "output_type": "stream",
     "text": [
      "0.878271329869518\n",
      "0.8818093328173193\n"
     ]
    }
   ],
   "source": [
    "nn = KNeighborsClassifier(n_neighbors=5)\n",
    "nn.fit(X_train_scaled, y_train)\n",
    "y_pred = nn.predict(X_test_scaled)\n",
    "print(f1_score(y_test, y_pred, average='weighted'))\n",
    "print(accuracy_score(y_test, y_pred))"
   ]
  },
  {
   "cell_type": "code",
   "execution_count": 124,
   "id": "4f349e1a",
   "metadata": {},
   "outputs": [
    {
     "data": {
      "text/plain": [
       "<matplotlib.legend.Legend at 0x7fd74a215ed0>"
      ]
     },
     "execution_count": 124,
     "metadata": {},
     "output_type": "execute_result"
    },
    {
     "data": {
      "image/png": "[encoded data removed]",
      "text/plain": [
       "<Figure size 600x300 with 1 Axes>"
      ]
     },
     "metadata": {},
     "output_type": "display_data"
    }
   ],
   "source": [
    "neighbors = [2,3,4,5,6,7,10]\n",
    "f1_test = [0.8686522739512842, 0.8841839019157115, 0.8787492349283998, 0.878271329869518, 0.8754745047970909, 0.8728833762157182, 0.8702156550449894]\n",
    "accuracy_test = [0.8638192074493661, 0.8865824625596641, 0.8779392276208235, 0.8818093328173193, 0.8764732786827569, 0.8774114860031196, 0.8734827428491011]\n",
    "plt.figure(figsize=(6,3))\n",
    "plt.plot(neighbors, f1_test, '--bo', label = \"Test F1 Score\")\n",
    "plt.plot(neighbors, accuracy_test, '--ro', label = \"Test Accuracy\")\n",
    "plt.xlabel(\"K Neighbors\")\n",
    "plt.ylabel(\"Value\")\n",
    "plt.title(\"Number of Neighbors vs. F1 Score and Accuracy\")\n",
    "plt.legend(loc='upper right')"
   ]
  },
  {
   "cell_type": "markdown",
   "id": "8c2e5033",
   "metadata": {},
   "source": [
    "Random Forest"
   ]
  },
  {
   "cell_type": "code",
   "execution_count": 86,
   "id": "8ab2067f",
   "metadata": {},
   "outputs": [
    {
     "name": "stdout",
     "output_type": "stream",
     "text": [
      "0.9041541015740014\n",
      "0.9081260481534907\n"
     ]
    }
   ],
   "source": [
    "params = {\n",
    "    \"n_estimators\": 100,\n",
    "    \"max_depth\": 20,\n",
    "    \"min_samples_split\": 5,\n",
    "    \"random_state\" : 42\n",
    "}\n",
    "\n",
    "rf = RandomForestClassifier(**params)\n",
    "rf.fit(X_train, y_train)\n",
    "y_pred = rf.predict(X_test)\n",
    "print(f1_score(y_test, y_pred, average='weighted'))\n",
    "print(accuracy_score(y_test, y_pred))"
   ]
  },
  {
   "cell_type": "code",
   "execution_count": 87,
   "id": "0b100488",
   "metadata": {},
   "outputs": [
    {
     "name": "stdout",
     "output_type": "stream",
     "text": [
      "0.904658937322451\n",
      "0.9085834242221675\n"
     ]
    }
   ],
   "source": [
    "params = {\n",
    "    \"n_estimators\": 100,\n",
    "    \"max_depth\": 20,\n",
    "    \"min_samples_split\": 3,\n",
    "    \"random_state\" : 42\n",
    "}\n",
    "\n",
    "rf = RandomForestClassifier(**params)\n",
    "rf.fit(X_train, y_train)\n",
    "y_pred = rf.predict(X_test)\n",
    "print(f1_score(y_test, y_pred, average='weighted'))\n",
    "print(accuracy_score(y_test, y_pred))"
   ]
  },
  {
   "cell_type": "code",
   "execution_count": 88,
   "id": "987f39be",
   "metadata": {},
   "outputs": [
    {
     "name": "stdout",
     "output_type": "stream",
     "text": [
      "0.9053128000573243\n",
      "0.9092401693464214\n"
     ]
    }
   ],
   "source": [
    "params = {\n",
    "    \"n_estimators\": 100,\n",
    "    \"max_depth\": 20,\n",
    "    \"min_samples_split\": 2,\n",
    "    \"random_state\" : 42\n",
    "}\n",
    "\n",
    "rf = RandomForestClassifier(**params)\n",
    "rf.fit(X_train, y_train)\n",
    "y_pred = rf.predict(X_test)\n",
    "print(f1_score(y_test, y_pred, average='weighted'))\n",
    "print(accuracy_score(y_test, y_pred))"
   ]
  },
  {
   "cell_type": "code",
   "execution_count": 89,
   "id": "cc48ccb6",
   "metadata": {},
   "outputs": [
    {
     "name": "stdout",
     "output_type": "stream",
     "text": [
      "0.9116886733645817\n",
      "0.9146583166215154\n"
     ]
    }
   ],
   "source": [
    "params = {\n",
    "    \"n_estimators\": 100,\n",
    "    \"max_depth\": 25,\n",
    "    \"min_samples_split\": 5,\n",
    "    \"random_state\" : 42\n",
    "}\n",
    "\n",
    "rf = RandomForestClassifier(**params)\n",
    "rf.fit(X_train, y_train)\n",
    "y_pred = rf.predict(X_test)\n",
    "print(f1_score(y_test, y_pred, average='weighted'))\n",
    "print(accuracy_score(y_test, y_pred))"
   ]
  },
  {
   "cell_type": "code",
   "execution_count": 90,
   "id": "bfd852ce",
   "metadata": {},
   "outputs": [
    {
     "name": "stdout",
     "output_type": "stream",
     "text": [
      "0.913148358221152\n",
      "0.9159718068700231\n"
     ]
    }
   ],
   "source": [
    "params = {\n",
    "    \"n_estimators\": 100,\n",
    "    \"max_depth\": 25,\n",
    "    \"min_samples_split\": 3,\n",
    "    \"random_state\" : 42\n",
    "}\n",
    "\n",
    "rf = RandomForestClassifier(**params)\n",
    "rf.fit(X_train, y_train)\n",
    "y_pred = rf.predict(X_test)\n",
    "print(f1_score(y_test, y_pred, average='weighted'))\n",
    "print(accuracy_score(y_test, y_pred))"
   ]
  },
  {
   "cell_type": "code",
   "execution_count": 91,
   "id": "c369bd98",
   "metadata": {},
   "outputs": [
    {
     "name": "stdout",
     "output_type": "stream",
     "text": [
      "0.9136935156075692\n",
      "0.9165112760792317\n"
     ]
    }
   ],
   "source": [
    "params = {\n",
    "    \"n_estimators\": 100,\n",
    "    \"max_depth\": 25,\n",
    "    \"min_samples_split\": 2,\n",
    "    \"random_state\" : 42\n",
    "}\n",
    "\n",
    "rf = RandomForestClassifier(**params)\n",
    "rf.fit(X_train, y_train)\n",
    "y_pred = rf.predict(X_test)\n",
    "print(f1_score(y_test, y_pred, average='weighted'))\n",
    "print(accuracy_score(y_test, y_pred))"
   ]
  },
  {
   "cell_type": "code",
   "execution_count": 92,
   "id": "410bc8b1",
   "metadata": {},
   "outputs": [
    {
     "name": "stdout",
     "output_type": "stream",
     "text": [
      "0.914710407245052\n",
      "0.9173439350760534\n"
     ]
    }
   ],
   "source": [
    "params = {\n",
    "    \"n_estimators\": 100,\n",
    "    \"max_depth\": 30,\n",
    "    \"min_samples_split\": 5,\n",
    "    \"random_state\" : 42\n",
    "}\n",
    "\n",
    "rf = RandomForestClassifier(**params)\n",
    "rf.fit(X_train, y_train)\n",
    "y_pred = rf.predict(X_test)\n",
    "print(f1_score(y_test, y_pred, average='weighted'))\n",
    "print(accuracy_score(y_test, y_pred))"
   ]
  },
  {
   "cell_type": "code",
   "execution_count": 93,
   "id": "d7e3e1a1",
   "metadata": {},
   "outputs": [
    {
     "name": "stdout",
     "output_type": "stream",
     "text": [
      "0.9152024331532227\n",
      "0.9177661283702166\n"
     ]
    }
   ],
   "source": [
    "params = {\n",
    "    \"n_estimators\": 100,\n",
    "    \"max_depth\": 30,\n",
    "    \"min_samples_split\": 3,\n",
    "    \"random_state\" : 42\n",
    "}\n",
    "\n",
    "rf = RandomForestClassifier(**params)\n",
    "rf.fit(X_train, y_train)\n",
    "y_pred = rf.predict(X_test)\n",
    "print(f1_score(y_test, y_pred, average='weighted'))\n",
    "print(accuracy_score(y_test, y_pred))"
   ]
  },
  {
   "cell_type": "code",
   "execution_count": 94,
   "id": "6c306f18",
   "metadata": {},
   "outputs": [
    {
     "name": "stdout",
     "output_type": "stream",
     "text": [
      "0.9158192773568822\n",
      "0.9182938699879206\n"
     ]
    }
   ],
   "source": [
    "params = {\n",
    "    \"n_estimators\": 100,\n",
    "    \"max_depth\": 30,\n",
    "    \"min_samples_split\": 2,\n",
    "    \"random_state\" : 42\n",
    "}\n",
    "\n",
    "rf = RandomForestClassifier(**params)\n",
    "rf.fit(X_train, y_train)\n",
    "y_pred = rf.predict(X_test)\n",
    "print(f1_score(y_test, y_pred, average='weighted'))\n",
    "print(accuracy_score(y_test, y_pred))"
   ]
  },
  {
   "cell_type": "code",
   "execution_count": 95,
   "id": "888bdfcf",
   "metadata": {},
   "outputs": [
    {
     "name": "stdout",
     "output_type": "stream",
     "text": [
      "0.9149635221883592\n",
      "0.9175902144976487\n"
     ]
    }
   ],
   "source": [
    "params = {\n",
    "    \"n_estimators\": 100,\n",
    "    \"max_depth\": 35,\n",
    "    \"min_samples_split\": 5,\n",
    "    \"random_state\" : 42\n",
    "}\n",
    "\n",
    "rf = RandomForestClassifier(**params)\n",
    "rf.fit(X_train, y_train)\n",
    "y_pred = rf.predict(X_test)\n",
    "print(f1_score(y_test, y_pred, average='weighted'))\n",
    "print(accuracy_score(y_test, y_pred))"
   ]
  },
  {
   "cell_type": "code",
   "execution_count": 96,
   "id": "575ae871",
   "metadata": {},
   "outputs": [
    {
     "name": "stdout",
     "output_type": "stream",
     "text": [
      "0.9157843472808584\n",
      "0.918282142396416\n"
     ]
    }
   ],
   "source": [
    "params = {\n",
    "    \"n_estimators\": 100,\n",
    "    \"max_depth\": 35,\n",
    "    \"min_samples_split\": 3,\n",
    "    \"random_state\" : 42\n",
    "}\n",
    "\n",
    "rf = RandomForestClassifier(**params)\n",
    "rf.fit(X_train, y_train)\n",
    "y_pred = rf.predict(X_test)\n",
    "print(f1_score(y_test, y_pred, average='weighted'))\n",
    "print(accuracy_score(y_test, y_pred))"
   ]
  },
  {
   "cell_type": "code",
   "execution_count": 97,
   "id": "55dfae74",
   "metadata": {},
   "outputs": [
    {
     "name": "stdout",
     "output_type": "stream",
     "text": [
      "0.9157904031029812\n",
      "0.9182235044388933\n"
     ]
    }
   ],
   "source": [
    "params = {\n",
    "    \"n_estimators\": 100,\n",
    "    \"max_depth\": 35,\n",
    "    \"min_samples_split\": 2,\n",
    "    \"random_state\" : 42\n",
    "}\n",
    "\n",
    "rf = RandomForestClassifier(**params)\n",
    "rf.fit(X_train, y_train)\n",
    "y_pred = rf.predict(X_test)\n",
    "print(f1_score(y_test, y_pred, average='weighted'))\n",
    "print(accuracy_score(y_test, y_pred))"
   ]
  },
  {
   "cell_type": "code",
   "execution_count": 98,
   "id": "ab6b558f",
   "metadata": {},
   "outputs": [
    {
     "name": "stdout",
     "output_type": "stream",
     "text": [
      "0.9149857511610261\n",
      "0.9175902144976487\n"
     ]
    }
   ],
   "source": [
    "params = {\n",
    "    \"n_estimators\": 100,\n",
    "    \"max_depth\": 40,\n",
    "    \"min_samples_split\": 5,\n",
    "    \"random_state\" : 42\n",
    "}\n",
    "\n",
    "rf = RandomForestClassifier(**params)\n",
    "rf.fit(X_train, y_train)\n",
    "y_pred = rf.predict(X_test)\n",
    "print(f1_score(y_test, y_pred, average='weighted'))\n",
    "print(accuracy_score(y_test, y_pred))"
   ]
  },
  {
   "cell_type": "code",
   "execution_count": 99,
   "id": "ce4731e8",
   "metadata": {},
   "outputs": [
    {
     "name": "stdout",
     "output_type": "stream",
     "text": [
      "0.9156117320631729\n",
      "0.918082773340839\n"
     ]
    }
   ],
   "source": [
    "params = {\n",
    "    \"n_estimators\": 100,\n",
    "    \"max_depth\": 40,\n",
    "    \"min_samples_split\": 3,\n",
    "    \"random_state\" : 42\n",
    "}\n",
    "\n",
    "rf = RandomForestClassifier(**params)\n",
    "rf.fit(X_train, y_train)\n",
    "y_pred = rf.predict(X_test)\n",
    "print(f1_score(y_test, y_pred, average='weighted'))\n",
    "print(accuracy_score(y_test, y_pred))"
   ]
  },
  {
   "cell_type": "code",
   "execution_count": 100,
   "id": "c399f0a6",
   "metadata": {},
   "outputs": [
    {
     "name": "stdout",
     "output_type": "stream",
     "text": [
      "0.9158991505252138\n",
      "0.918282142396416\n"
     ]
    }
   ],
   "source": [
    "params = {\n",
    "    \"n_estimators\": 100,\n",
    "    \"max_depth\": 40,\n",
    "    \"min_samples_split\": 2,\n",
    "    \"random_state\" : 42\n",
    "}\n",
    "\n",
    "rf = RandomForestClassifier(**params)\n",
    "rf.fit(X_train, y_train)\n",
    "y_pred = rf.predict(X_test)\n",
    "print(f1_score(y_test, y_pred, average='weighted'))\n",
    "print(accuracy_score(y_test, y_pred))"
   ]
  },
  {
   "cell_type": "code",
   "execution_count": 110,
   "id": "896012b0",
   "metadata": {},
   "outputs": [
    {
     "name": "stdout",
     "output_type": "stream",
     "text": [
      "0.9150371598180663\n",
      "0.9176488524551712\n"
     ]
    }
   ],
   "source": [
    "params = {\n",
    "    \"n_estimators\": 100,\n",
    "    \"max_depth\": 45,\n",
    "    \"min_samples_split\": 5,\n",
    "    \"random_state\" : 42\n",
    "}\n",
    "\n",
    "rf = RandomForestClassifier(**params)\n",
    "rf.fit(X_train, y_train)\n",
    "y_pred = rf.predict(X_test)\n",
    "print(f1_score(y_test, y_pred, average='weighted'))\n",
    "print(accuracy_score(y_test, y_pred))"
   ]
  },
  {
   "cell_type": "code",
   "execution_count": null,
   "id": "a9a0bb9f",
   "metadata": {},
   "outputs": [
    {
     "name": "stdout",
     "output_type": "stream",
     "text": [
      "0.9154317470915192\n",
      "0.91793031465128\n"
     ]
    }
   ],
   "source": [
    "params = {\n",
    "    \"n_estimators\": 100,\n",
    "    \"max_depth\": 45,\n",
    "    \"min_samples_split\": 3,\n",
    "    \"random_state\" : 42\n",
    "}\n",
    "\n",
    "rf = RandomForestClassifier(**params)\n",
    "rf.fit(X_train, y_train)\n",
    "y_pred = rf.predict(X_test)\n",
    "print(f1_score(y_test, y_pred, average='weighted'))\n",
    "print(accuracy_score(y_test, y_pred))"
   ]
  },
  {
   "cell_type": "code",
   "execution_count": 111,
   "id": "13260c84",
   "metadata": {},
   "outputs": [
    {
     "name": "stdout",
     "output_type": "stream",
     "text": [
      "0.9156146296842488\n",
      "0.9180124077918118\n"
     ]
    }
   ],
   "source": [
    "params = {\n",
    "    \"n_estimators\": 100,\n",
    "    \"max_depth\": 45,\n",
    "    \"min_samples_split\": 2,\n",
    "    \"random_state\" : 42\n",
    "}\n",
    "\n",
    "rf = RandomForestClassifier(**params)\n",
    "rf.fit(X_train, y_train)\n",
    "y_pred = rf.predict(X_test)\n",
    "print(f1_score(y_test, y_pred, average='weighted'))\n",
    "print(accuracy_score(y_test, y_pred))"
   ]
  },
  {
   "cell_type": "code",
   "execution_count": 112,
   "id": "ed9ba2c1",
   "metadata": {},
   "outputs": [
    {
     "name": "stdout",
     "output_type": "stream",
     "text": [
      "0.9151026883144053\n",
      "0.9176840352296849\n"
     ]
    }
   ],
   "source": [
    "params = {\n",
    "    \"n_estimators\": 100,\n",
    "    \"max_depth\": 50,\n",
    "    \"min_samples_split\": 5,\n",
    "    \"random_state\" : 42\n",
    "}\n",
    "\n",
    "rf = RandomForestClassifier(**params)\n",
    "rf.fit(X_train, y_train)\n",
    "y_pred = rf.predict(X_test)\n",
    "print(f1_score(y_test, y_pred, average='weighted'))\n",
    "print(accuracy_score(y_test, y_pred))"
   ]
  },
  {
   "cell_type": "code",
   "execution_count": 25,
   "id": "57c368c5",
   "metadata": {},
   "outputs": [
    {
     "name": "stdout",
     "output_type": "stream",
     "text": [
      "0.9161869263408436\n",
      "0.9186574253245611\n"
     ]
    }
   ],
   "source": [
    "params = {\n",
    "    \"n_estimators\": 100,\n",
    "    \"max_depth\": 50,\n",
    "    \"min_samples_split\": 3,\n",
    "    \"random_state\" : 42\n",
    "}\n",
    "\n",
    "rf = RandomForestClassifier(**params)\n",
    "rf.fit(X_train, y_train)\n",
    "y_pred = rf.predict(X_test)\n",
    "print(f1_score(y_test, y_pred, average='weighted'))\n",
    "print(accuracy_score(y_test, y_pred))"
   ]
  },
  {
   "cell_type": "code",
   "execution_count": 26,
   "id": "0358d094",
   "metadata": {},
   "outputs": [
    {
     "data": {
      "text/plain": [
       "array([[13697,  4862],\n",
       "       [ 2074, 64636]])"
      ]
     },
     "execution_count": 26,
     "metadata": {},
     "output_type": "execute_result"
    }
   ],
   "source": [
    "from sklearn.metrics import confusion_matrix\n",
    "import seaborn as sns\n",
    "cm = confusion_matrix(y_test, y_pred)\n",
    "cm"
   ]
  },
  {
   "cell_type": "code",
   "execution_count": 27,
   "id": "3dda5341",
   "metadata": {},
   "outputs": [
    {
     "data": {
      "image/png": "[encoded data removed]",
      "text/plain": [
       "<Figure size 600x400 with 2 Axes>"
      ]
     },
     "metadata": {},
     "output_type": "display_data"
    }
   ],
   "source": [
    "f, ax = plt.subplots(figsize=(6, 4))\n",
    "sns.heatmap(pd.DataFrame(cm), annot=True, cmap='Blues', fmt='g')\n",
    "\n",
    "plt.title(\"Confusion Matrix\")\n",
    "plt.xlabel(\"Predicted Labels\")\n",
    "plt.ylabel(\"Actual Labels\")\n",
    "plt.show()  "
   ]
  },
  {
   "cell_type": "code",
   "execution_count": 114,
   "id": "c7b72139",
   "metadata": {},
   "outputs": [
    {
     "name": "stdout",
     "output_type": "stream",
     "text": [
      "0.9156205617336063\n",
      "0.9180124077918118\n"
     ]
    }
   ],
   "source": [
    "params = {\n",
    "    \"n_estimators\": 100,\n",
    "    \"max_depth\": 50,\n",
    "    \"min_samples_split\": 2,\n",
    "    \"random_state\" : 42\n",
    "}\n",
    "\n",
    "rf = RandomForestClassifier(**params)\n",
    "rf.fit(X_train, y_train)\n",
    "y_pred = rf.predict(X_test)\n",
    "print(f1_score(y_test, y_pred, average='weighted'))\n",
    "print(accuracy_score(y_test, y_pred))"
   ]
  },
  {
   "cell_type": "code",
   "execution_count": 9,
   "id": "cdd54962",
   "metadata": {},
   "outputs": [
    {
     "name": "stdout",
     "output_type": "stream",
     "text": [
      "0.9150956264798477\n",
      "0.9176723076381803\n"
     ]
    }
   ],
   "source": [
    "params = {\n",
    "    \"n_estimators\": 100,\n",
    "    \"max_depth\": 55,\n",
    "    \"min_samples_split\": 5,\n",
    "    \"random_state\" : 42\n",
    "}\n",
    "\n",
    "rf = RandomForestClassifier(**params)\n",
    "rf.fit(X_train, y_train)\n",
    "y_pred = rf.predict(X_test)\n",
    "print(f1_score(y_test, y_pred, average='weighted'))\n",
    "print(accuracy_score(y_test, y_pred))"
   ]
  },
  {
   "cell_type": "code",
   "execution_count": 10,
   "id": "65ad2a3a",
   "metadata": {},
   "outputs": [
    {
     "name": "stdout",
     "output_type": "stream",
     "text": [
      "0.915933349587167\n",
      "0.9184228734944705\n"
     ]
    }
   ],
   "source": [
    "params = {\n",
    "    \"n_estimators\": 100,\n",
    "    \"max_depth\": 55,\n",
    "    \"min_samples_split\": 3,\n",
    "    \"random_state\" : 42\n",
    "}\n",
    "\n",
    "rf = RandomForestClassifier(**params)\n",
    "rf.fit(X_train, y_train)\n",
    "y_pred = rf.predict(X_test)\n",
    "print(f1_score(y_test, y_pred, average='weighted'))\n",
    "print(accuracy_score(y_test, y_pred))"
   ]
  },
  {
   "cell_type": "code",
   "execution_count": 11,
   "id": "a7456bc9",
   "metadata": {},
   "outputs": [
    {
     "name": "stdout",
     "output_type": "stream",
     "text": [
      "0.9155885099926808\n",
      "0.9179889526088028\n"
     ]
    }
   ],
   "source": [
    "params = {\n",
    "    \"n_estimators\": 100,\n",
    "    \"max_depth\": 55,\n",
    "    \"min_samples_split\": 2,\n",
    "    \"random_state\" : 42\n",
    "}\n",
    "\n",
    "rf = RandomForestClassifier(**params)\n",
    "rf.fit(X_train, y_train)\n",
    "y_pred = rf.predict(X_test)\n",
    "print(f1_score(y_test, y_pred, average='weighted'))\n",
    "print(accuracy_score(y_test, y_pred))"
   ]
  },
  {
   "cell_type": "code",
   "execution_count": 19,
   "id": "7044609d",
   "metadata": {},
   "outputs": [
    {
     "name": "stdout",
     "output_type": "stream",
     "text": [
      "0.9156126517029647\n",
      "0.9180124077918118\n"
     ]
    }
   ],
   "source": [
    "params = {\n",
    "    \"n_estimators\": 100,\n",
    "    \"max_depth\": 60,\n",
    "    \"min_samples_split\": 2,\n",
    "    \"random_state\" : 42\n",
    "}\n",
    "\n",
    "rf = RandomForestClassifier(**params)\n",
    "rf.fit(X_train, y_train)\n",
    "y_pred = rf.predict(X_test)\n",
    "print(f1_score(y_test, y_pred, average='weighted'))\n",
    "print(accuracy_score(y_test, y_pred))"
   ]
  },
  {
   "cell_type": "code",
   "execution_count": 20,
   "id": "042f20fe",
   "metadata": {},
   "outputs": [
    {
     "name": "stdout",
     "output_type": "stream",
     "text": [
      "0.915783502933949\n",
      "0.9182938699879206\n"
     ]
    }
   ],
   "source": [
    "params = {\n",
    "    \"n_estimators\": 100,\n",
    "    \"max_depth\": 60,\n",
    "    \"min_samples_split\": 3,\n",
    "    \"random_state\" : 42\n",
    "}\n",
    "\n",
    "rf = RandomForestClassifier(**params)\n",
    "rf.fit(X_train, y_train)\n",
    "y_pred = rf.predict(X_test)\n",
    "print(f1_score(y_test, y_pred, average='weighted'))\n",
    "print(accuracy_score(y_test, y_pred))"
   ]
  },
  {
   "cell_type": "code",
   "execution_count": 21,
   "id": "c508d57f",
   "metadata": {},
   "outputs": [
    {
     "name": "stdout",
     "output_type": "stream",
     "text": [
      "0.9150956264798477\n",
      "0.9176723076381803\n"
     ]
    }
   ],
   "source": [
    "params = {\n",
    "    \"n_estimators\": 100,\n",
    "    \"max_depth\": 60,\n",
    "    \"min_samples_split\": 5,\n",
    "    \"random_state\" : 42\n",
    "}\n",
    "\n",
    "rf = RandomForestClassifier(**params)\n",
    "rf.fit(X_train, y_train)\n",
    "y_pred = rf.predict(X_test)\n",
    "print(f1_score(y_test, y_pred, average='weighted'))\n",
    "print(accuracy_score(y_test, y_pred))"
   ]
  },
  {
   "cell_type": "code",
   "execution_count": 24,
   "id": "57398f3e",
   "metadata": {},
   "outputs": [],
   "source": [
    "max_depth_2 = [20, 25, 30, 35, 40, 45, 50, 55, 60]\n",
    "f1_score_2 = [0.9053128000573243, 0.9136935156075692, 0.9158192773568822, 0.9157904031029812, 0.9158991505252138, 0.9156146296842488, 0.9156205617336063, 0.9155885099926808, 0.9156126517029647]\n",
    "max_depth_3 = [20, 25, 30, 35, 40, 45, 50, 55, 60]\n",
    "f1_score_3 = [0.904658937322451, 0.913148358221152, 0.9152024331532227, 0.9157843472808584, 0.9156117320631729, 0.9154317470915192, 0.9161869263408436, 0.915933349587167, 0.915783502933949]\n",
    "max_depth_5 = [20, 25, 30, 35, 40, 45, 50, 55, 60]\n",
    "f1_score_5 = [0.9041541015740014, 0.9116886733645817, 0.914710407245052, 0.9149635221883592, 0.9149857511610261, 0.9150371598180663, 0.9151026883144053, 0.9150956264798477, 0.9150956264798477]"
   ]
  },
  {
   "cell_type": "code",
   "execution_count": 25,
   "id": "65d6b97d",
   "metadata": {},
   "outputs": [
    {
     "data": {
      "text/plain": [
       "<matplotlib.legend.Legend at 0x7f4523c8b700>"
      ]
     },
     "execution_count": 25,
     "metadata": {},
     "output_type": "execute_result"
    },
    {
     "data": {
      "image/png": "[encoded data removed]",
      "text/plain": [
       "<Figure size 1000x300 with 1 Axes>"
      ]
     },
     "metadata": {},
     "output_type": "display_data"
    }
   ],
   "source": [
    "plt.figure(figsize=(10,3))\n",
    "plt.plot(max_depth_2, f1_score_2, '--go', label = \"Min Sample Split = 2\")\n",
    "plt.plot(max_depth_3, f1_score_3, '--ro', label = \"Min Sample Split = 3\")\n",
    "plt.plot(max_depth_5, f1_score_5, '--bo', label = \"Min Sample Split = 5\")\n",
    "plt.xlabel(\"Max Depth\")\n",
    "plt.ylabel(\"Test F1 Score\")\n",
    "plt.title(\"Max Depth vs. F1 Score for Different Min Sample Split\")\n",
    "plt.legend(loc='lower right')"
   ]
  },
  {
   "cell_type": "markdown",
   "id": "d0cd5d94",
   "metadata": {},
   "source": [
    "XGBoost"
   ]
  },
  {
   "cell_type": "code",
   "execution_count": 72,
   "id": "cbc24616",
   "metadata": {},
   "outputs": [
    {
     "data": {
      "text/plain": [
       "0.86369605478033"
      ]
     },
     "execution_count": 72,
     "metadata": {},
     "output_type": "execute_result"
    }
   ],
   "source": [
    "params = {\n",
    "    \"n_estimators\": 100,\n",
    "    \"max_depth\": 4,\n",
    "    \"min_samples_split\": 2,\n",
    "}\n",
    "\n",
    "gb = GradientBoostingClassifier(**params)\n",
    "gb.fit(X_train, y_train)\n",
    "y_pred = gb.predict(X_test)\n",
    "f1_score(y_test, y_pred, average='weighted')"
   ]
  },
  {
   "cell_type": "code",
   "execution_count": 73,
   "id": "d8f69719",
   "metadata": {},
   "outputs": [
    {
     "data": {
      "text/plain": [
       "0.8707150312540314"
      ]
     },
     "execution_count": 73,
     "metadata": {},
     "output_type": "execute_result"
    }
   ],
   "source": [
    "accuracy_score(y_test, y_pred)"
   ]
  },
  {
   "cell_type": "code",
   "execution_count": 12,
   "id": "3ae9a5d7",
   "metadata": {},
   "outputs": [
    {
     "data": {
      "text/plain": [
       "0.8742465728725136"
      ]
     },
     "execution_count": 12,
     "metadata": {},
     "output_type": "execute_result"
    }
   ],
   "source": [
    "params = {\n",
    "    \"n_estimators\": 100,\n",
    "    \"max_depth\": 7,\n",
    "    \"min_samples_split\": 2,\n",
    "}\n",
    "\n",
    "gb = GradientBoostingClassifier(**params)\n",
    "gb.fit(X_train, y_train)\n",
    "y_pred = gb.predict(X_test)\n",
    "f1_score(y_test, y_pred, average='weighted')"
   ]
  },
  {
   "cell_type": "code",
   "execution_count": 13,
   "id": "3d057703",
   "metadata": {},
   "outputs": [
    {
     "data": {
      "text/plain": [
       "0.8803082011047392"
      ]
     },
     "execution_count": 13,
     "metadata": {},
     "output_type": "execute_result"
    }
   ],
   "source": [
    "accuracy_score(y_test, y_pred)"
   ]
  },
  {
   "cell_type": "code",
   "execution_count": 14,
   "id": "d54669c1",
   "metadata": {},
   "outputs": [
    {
     "data": {
      "text/plain": [
       "0.8917014328311085"
      ]
     },
     "execution_count": 14,
     "metadata": {},
     "output_type": "execute_result"
    }
   ],
   "source": [
    "params = {\n",
    "    \"n_estimators\": 100,\n",
    "    \"max_depth\": 10,\n",
    "    \"min_samples_split\": 2,\n",
    "}\n",
    "\n",
    "gb = GradientBoostingClassifier(**params)\n",
    "gb.fit(X_train, y_train)\n",
    "y_pred = gb.predict(X_test)\n",
    "f1_score(y_test, y_pred, average='weighted')"
   ]
  },
  {
   "cell_type": "code",
   "execution_count": 15,
   "id": "51b7e053",
   "metadata": {},
   "outputs": [
    {
     "data": {
      "text/plain": [
       "0.8962577255509037"
      ]
     },
     "execution_count": 15,
     "metadata": {},
     "output_type": "execute_result"
    }
   ],
   "source": [
    "accuracy_score(y_test, y_pred)"
   ]
  },
  {
   "cell_type": "code",
   "execution_count": 22,
   "id": "59ffe38c",
   "metadata": {},
   "outputs": [
    {
     "data": {
      "text/plain": [
       "0.9033153344412794"
      ]
     },
     "execution_count": 22,
     "metadata": {},
     "output_type": "execute_result"
    }
   ],
   "source": [
    "params = {\n",
    "    \"n_estimators\": 100,\n",
    "    \"max_depth\": 12,\n",
    "    \"min_samples_split\": 2,\n",
    "}\n",
    "\n",
    "gb = GradientBoostingClassifier(**params)\n",
    "gb.fit(X_train, y_train)\n",
    "y_pred = gb.predict(X_test)\n",
    "f1_score(y_test, y_pred, average='weighted')"
   ]
  },
  {
   "cell_type": "code",
   "execution_count": 23,
   "id": "d57f0bba",
   "metadata": {},
   "outputs": [
    {
     "data": {
      "text/plain": [
       "0.9066718268069287"
      ]
     },
     "execution_count": 23,
     "metadata": {},
     "output_type": "execute_result"
    }
   ],
   "source": [
    "accuracy_score(y_test, y_pred)"
   ]
  },
  {
   "cell_type": "code",
   "execution_count": 26,
   "id": "bb92b1b9",
   "metadata": {},
   "outputs": [
    {
     "data": {
      "text/plain": [
       "0.9129714284949167"
      ]
     },
     "execution_count": 26,
     "metadata": {},
     "output_type": "execute_result"
    }
   ],
   "source": [
    "params = {\n",
    "    \"n_estimators\": 100,\n",
    "    \"max_depth\": 15,\n",
    "    \"min_samples_split\": 2,\n",
    "}\n",
    "\n",
    "gb = GradientBoostingClassifier(**params)\n",
    "gb.fit(X_train, y_train)\n",
    "y_pred = gb.predict(X_test)\n",
    "f1_score(y_test, y_pred, average='weighted')"
   ]
  },
  {
   "cell_type": "code",
   "execution_count": 27,
   "id": "c1267fc7",
   "metadata": {},
   "outputs": [
    {
     "data": {
      "text/plain": [
       "0.9153267893372738"
      ]
     },
     "execution_count": 27,
     "metadata": {},
     "output_type": "execute_result"
    }
   ],
   "source": [
    "accuracy_score(y_test, y_pred)"
   ]
  },
  {
   "cell_type": "code",
   "execution_count": 39,
   "id": "a84b2341",
   "metadata": {},
   "outputs": [
    {
     "data": {
      "text/plain": [
       "0.9152909971001147"
      ]
     },
     "execution_count": 39,
     "metadata": {},
     "output_type": "execute_result"
    }
   ],
   "source": [
    "params = {\n",
    "    \"n_estimators\": 100,\n",
    "    \"max_depth\": 20,\n",
    "    \"min_samples_split\": 2,\n",
    "}\n",
    "\n",
    "gb = GradientBoostingClassifier(**params)\n",
    "gb.fit(X_train, y_train)\n",
    "y_pred = gb.predict(X_test)\n",
    "f1_score(y_test, y_pred, average='weighted')"
   ]
  },
  {
   "cell_type": "code",
   "execution_count": 40,
   "id": "c9116921",
   "metadata": {},
   "outputs": [
    {
     "data": {
      "text/plain": [
       "0.9176488524551712"
      ]
     },
     "execution_count": 40,
     "metadata": {},
     "output_type": "execute_result"
    }
   ],
   "source": [
    "accuracy_score(y_test, y_pred)"
   ]
  },
  {
   "cell_type": "code",
   "execution_count": 41,
   "id": "43484657",
   "metadata": {},
   "outputs": [
    {
     "data": {
      "text/plain": [
       "0.9135640323453637"
      ]
     },
     "execution_count": 41,
     "metadata": {},
     "output_type": "execute_result"
    }
   ],
   "source": [
    "params = {\n",
    "    \"n_estimators\": 100,\n",
    "    \"max_depth\": 15,\n",
    "    \"min_samples_split\": 3,\n",
    "}\n",
    "\n",
    "gb = GradientBoostingClassifier(**params)\n",
    "gb.fit(X_train, y_train)\n",
    "y_pred = gb.predict(X_test)\n",
    "f1_score(y_test, y_pred, average='weighted')"
   ]
  },
  {
   "cell_type": "code",
   "execution_count": 42,
   "id": "5586c07f",
   "metadata": {},
   "outputs": [
    {
     "data": {
      "text/plain": [
       "0.9159366240955095"
      ]
     },
     "execution_count": 42,
     "metadata": {},
     "output_type": "execute_result"
    }
   ],
   "source": [
    "accuracy_score(y_test, y_pred)"
   ]
  },
  {
   "cell_type": "code",
   "execution_count": 43,
   "id": "12d33ce6",
   "metadata": {},
   "outputs": [
    {
     "data": {
      "text/plain": [
       "0.9154776427535197"
      ]
     },
     "execution_count": 43,
     "metadata": {},
     "output_type": "execute_result"
    }
   ],
   "source": [
    "params = {\n",
    "    \"n_estimators\": 100,\n",
    "    \"max_depth\": 20,\n",
    "    \"min_samples_split\": 3,\n",
    "}\n",
    "\n",
    "gb = GradientBoostingClassifier(**params)\n",
    "gb.fit(X_train, y_train)\n",
    "y_pred = gb.predict(X_test)\n",
    "f1_score(y_test, y_pred, average='weighted')"
   ]
  },
  {
   "cell_type": "code",
   "execution_count": 44,
   "id": "d3643613",
   "metadata": {},
   "outputs": [
    {
     "data": {
      "text/plain": [
       "0.9178130387362348"
      ]
     },
     "execution_count": 44,
     "metadata": {},
     "output_type": "execute_result"
    }
   ],
   "source": [
    "accuracy_score(y_test, y_pred)"
   ]
  },
  {
   "cell_type": "code",
   "execution_count": 45,
   "id": "4a6fcba5",
   "metadata": {},
   "outputs": [
    {
     "data": {
      "text/plain": [
       "0.8970267291501554"
      ]
     },
     "execution_count": 45,
     "metadata": {},
     "output_type": "execute_result"
    }
   ],
   "source": [
    "params = {\n",
    "    \"n_estimators\": 100,\n",
    "    \"max_depth\": 30,\n",
    "    \"min_samples_split\": 2,\n",
    "}\n",
    "\n",
    "gb = GradientBoostingClassifier(**params)\n",
    "gb.fit(X_train, y_train)\n",
    "y_pred = gb.predict(X_test)\n",
    "f1_score(y_test, y_pred, average='weighted')"
   ]
  },
  {
   "cell_type": "code",
   "execution_count": 46,
   "id": "7a6ddb04",
   "metadata": {},
   "outputs": [
    {
     "data": {
      "text/plain": [
       "0.8992248062015504"
      ]
     },
     "execution_count": 46,
     "metadata": {},
     "output_type": "execute_result"
    }
   ],
   "source": [
    "accuracy_score(y_test, y_pred)"
   ]
  },
  {
   "cell_type": "markdown",
   "id": "d1d9f0ea",
   "metadata": {},
   "source": [
    "#### BOW"
   ]
  },
  {
   "cell_type": "code",
   "execution_count": 4,
   "id": "9456300e",
   "metadata": {},
   "outputs": [],
   "source": [
    "from nltk.corpus import stopwords\n",
    "stop_words = list(set(stopwords.words('english')))"
   ]
  },
  {
   "cell_type": "code",
   "execution_count": 5,
   "id": "9296ca58",
   "metadata": {},
   "outputs": [],
   "source": [
    "X = df['Summary']\n",
    "Y = df['Score']"
   ]
  },
  {
   "cell_type": "code",
   "execution_count": 6,
   "id": "95abe7a3",
   "metadata": {},
   "outputs": [],
   "source": [
    "X_train, X_test, y_train, y_test = train_test_split(X, Y, test_size=0.15, random_state=42)"
   ]
  },
  {
   "cell_type": "code",
   "execution_count": 7,
   "id": "5155a4fc",
   "metadata": {},
   "outputs": [],
   "source": [
    "X_train_nonan=X_train[~X_train.isna()]\n",
    "X_test_nonan=X_test[~X_test.isna()]"
   ]
  },
  {
   "cell_type": "code",
   "execution_count": 8,
   "id": "d8d85b72",
   "metadata": {},
   "outputs": [],
   "source": [
    "y_train=y_train[~X_train.isna()]\n",
    "y_test=y_test[~X_test.isna()]"
   ]
  },
  {
   "cell_type": "code",
   "execution_count": 9,
   "id": "b2637a45",
   "metadata": {},
   "outputs": [],
   "source": [
    "def clean(doc):\n",
    "    # Removal of punctuation marks (.,/\\][{} etc) and numbers\n",
    "    doc = \"\".join([char for char in doc if char not in string.punctuation and not char.isdigit()])\n",
    "    # Removal of stopwords\n",
    "    doc = \" \".join([token for token in doc.split() if token not in stop_words])\n",
    "    return doc.lower()"
   ]
  },
  {
   "cell_type": "code",
   "execution_count": 10,
   "id": "252ccc06",
   "metadata": {},
   "outputs": [],
   "source": [
    "from sklearn.feature_extraction.text import CountVectorizer\n",
    "vect = CountVectorizer(preprocessor=clean)\n",
    "X_train_dtm = vect.fit_transform(X_train_nonan)\n",
    "X_test_dtm = vect.transform(X_test_nonan)"
   ]
  },
  {
   "cell_type": "code",
   "execution_count": 11,
   "id": "247e447a",
   "metadata": {},
   "outputs": [
    {
     "name": "stdout",
     "output_type": "stream",
     "text": [
      "(483165, 38145)\n",
      "(85262, 38145)\n"
     ]
    }
   ],
   "source": [
    "print(X_train_dtm.shape)\n",
    "print(X_test_dtm.shape)"
   ]
  },
  {
   "cell_type": "code",
   "execution_count": 51,
   "id": "eda73988",
   "metadata": {},
   "outputs": [
    {
     "name": "stdout",
     "output_type": "stream",
     "text": [
      "0.5030806652992388\n",
      "0.64232600689639\n"
     ]
    }
   ],
   "source": [
    "params = {\n",
    "    \"n_estimators\": 100,\n",
    "    \"max_depth\": 40,\n",
    "    \"min_samples_split\": 3,\n",
    "    \"random_state\" : 42\n",
    "}\n",
    "\n",
    "rf = RandomForestClassifier(**params)\n",
    "rf.fit(X_train_dtm, y_train)\n",
    "y_pred = rf.predict(X_test_dtm)\n",
    "print(f1_score(y_test, y_pred, average='weighted'))\n",
    "print(accuracy_score(y_test, y_pred))"
   ]
  },
  {
   "cell_type": "code",
   "execution_count": 52,
   "id": "d40f95b0",
   "metadata": {},
   "outputs": [
    {
     "name": "stdout",
     "output_type": "stream",
     "text": [
      "0.5566386708288089\n",
      "0.6668621425723066\n"
     ]
    }
   ],
   "source": [
    "params = {\n",
    "    \"n_estimators\": 100,\n",
    "    \"max_depth\": 100,\n",
    "    \"min_samples_split\": 2,\n",
    "    \"random_state\" : 42\n",
    "}\n",
    "\n",
    "rf = RandomForestClassifier(**params)\n",
    "rf.fit(X_train_dtm, y_train)\n",
    "y_pred = rf.predict(X_test_dtm)\n",
    "print(f1_score(y_test, y_pred, average='weighted'))\n",
    "print(accuracy_score(y_test, y_pred))"
   ]
  },
  {
   "cell_type": "code",
   "execution_count": 65,
   "id": "536eb415",
   "metadata": {},
   "outputs": [
    {
     "name": "stdout",
     "output_type": "stream",
     "text": [
      "0.6789079652104277\n",
      "0.735110600267411\n"
     ]
    }
   ],
   "source": [
    "params = {\n",
    "    \"n_estimators\": 100,\n",
    "    \"max_depth\": 200,\n",
    "    \"min_samples_split\": 2,\n",
    "    \"random_state\" : 42\n",
    "}\n",
    "\n",
    "rf = RandomForestClassifier(**params)\n",
    "rf.fit(X_train_dtm, y_train)\n",
    "y_pred = rf.predict(X_test_dtm)\n",
    "print(f1_score(y_test, y_pred, average='weighted'))\n",
    "print(accuracy_score(y_test, y_pred))"
   ]
  },
  {
   "cell_type": "code",
   "execution_count": 68,
   "id": "e4ee0fa6",
   "metadata": {},
   "outputs": [
    {
     "name": "stdout",
     "output_type": "stream",
     "text": [
      "0.7212118916483089\n",
      "0.7607492200511365\n"
     ]
    }
   ],
   "source": [
    "params = {\n",
    "    \"n_estimators\": 100,\n",
    "    \"max_depth\": 300,\n",
    "    \"min_samples_split\": 2,\n",
    "    \"random_state\" : 42\n",
    "}\n",
    "\n",
    "rf = RandomForestClassifier(**params)\n",
    "rf.fit(X_train_dtm, y_train)\n",
    "y_pred = rf.predict(X_test_dtm)\n",
    "print(f1_score(y_test, y_pred, average='weighted'))\n",
    "print(accuracy_score(y_test, y_pred))"
   ]
  },
  {
   "cell_type": "code",
   "execution_count": 14,
   "id": "bd7e4735",
   "metadata": {},
   "outputs": [
    {
     "name": "stdout",
     "output_type": "stream",
     "text": [
      "0.7196057173768712\n",
      "0.7599399498017875\n"
     ]
    }
   ],
   "source": [
    "params = {\n",
    "    \"n_estimators\": 100,\n",
    "    \"max_depth\": 300,\n",
    "    \"min_samples_split\": 3,\n",
    "    \"random_state\" : 42\n",
    "}\n",
    "\n",
    "rf = RandomForestClassifier(**params)\n",
    "rf.fit(X_train_dtm, y_train)\n",
    "y_pred = rf.predict(X_test_dtm)\n",
    "print(f1_score(y_test, y_pred, average='weighted'))\n",
    "print(accuracy_score(y_test, y_pred))"
   ]
  },
  {
   "cell_type": "code",
   "execution_count": 15,
   "id": "4d4e4f7b",
   "metadata": {},
   "outputs": [
    {
     "name": "stdout",
     "output_type": "stream",
     "text": [
      "0.7307332759289596\n",
      "0.7662029978184889\n"
     ]
    }
   ],
   "source": [
    "params = {\n",
    "    \"n_estimators\": 100,\n",
    "    \"max_depth\": 350,\n",
    "    \"min_samples_split\": 2,\n",
    "    \"random_state\" : 42\n",
    "}\n",
    "\n",
    "rf = RandomForestClassifier(**params)\n",
    "rf.fit(X_train_dtm, y_train)\n",
    "y_pred = rf.predict(X_test_dtm)\n",
    "print(f1_score(y_test, y_pred, average='weighted'))\n",
    "print(accuracy_score(y_test, y_pred))"
   ]
  },
  {
   "cell_type": "code",
   "execution_count": 16,
   "id": "22598004",
   "metadata": {},
   "outputs": [
    {
     "name": "stdout",
     "output_type": "stream",
     "text": [
      "0.7375383950282183\n",
      "0.7699795923154512\n"
     ]
    }
   ],
   "source": [
    "params = {\n",
    "    \"n_estimators\": 100,\n",
    "    \"max_depth\": 400,\n",
    "    \"min_samples_split\": 2,\n",
    "    \"random_state\" : 42\n",
    "}\n",
    "\n",
    "rf = RandomForestClassifier(**params)\n",
    "rf.fit(X_train_dtm, y_train)\n",
    "y_pred = rf.predict(X_test_dtm)\n",
    "print(f1_score(y_test, y_pred, average='weighted'))\n",
    "print(accuracy_score(y_test, y_pred))"
   ]
  },
  {
   "cell_type": "code",
   "execution_count": null,
   "id": "48e30611",
   "metadata": {},
   "outputs": [
    {
     "name": "stdout",
     "output_type": "stream",
     "text": [
      "0.7422628753477506\n",
      "0.7725129600525439\n"
     ]
    }
   ],
   "source": [
    "params = {\n",
    "    \"n_estimators\": 100,\n",
    "    \"max_depth\": 450,\n",
    "    \"min_samples_split\": 2,\n",
    "    \"random_state\" : 42\n",
    "}\n",
    "\n",
    "rf = RandomForestClassifier(**params)\n",
    "rf.fit(X_train_dtm, y_train)\n",
    "y_pred = rf.predict(X_test_dtm)\n",
    "print(f1_score(y_test, y_pred, average='weighted'))\n",
    "print(accuracy_score(y_test, y_pred))"
   ]
  },
  {
   "cell_type": "code",
   "execution_count": null,
   "id": "e5bd6019",
   "metadata": {},
   "outputs": [
    {
     "name": "stdout",
     "output_type": "stream",
     "text": [
      "0.7460655153340341\n",
      "0.7744247144097018\n"
     ]
    }
   ],
   "source": [
    "params = {\n",
    "    \"n_estimators\": 100,\n",
    "    \"max_depth\": 500,\n",
    "    \"min_samples_split\": 2,\n",
    "    \"random_state\" : 42\n",
    "}\n",
    "\n",
    "rf = RandomForestClassifier(**params)\n",
    "rf.fit(X_train_dtm, y_train)\n",
    "y_pred = rf.predict(X_test_dtm)\n",
    "print(f1_score(y_test, y_pred, average='weighted'))\n",
    "print(accuracy_score(y_test, y_pred))"
   ]
  },
  {
   "cell_type": "code",
   "execution_count": null,
   "id": "6d047c5d",
   "metadata": {},
   "outputs": [
    {
     "name": "stdout",
     "output_type": "stream",
     "text": [
      "0.7512875482504866\n",
      "0.7767938823860571\n"
     ]
    }
   ],
   "source": [
    "params = {\n",
    "    \"n_estimators\": 100,\n",
    "    \"max_depth\": 600,\n",
    "    \"min_samples_split\": 2,\n",
    "    \"random_state\" : 42\n",
    "}\n",
    "\n",
    "rf = RandomForestClassifier(**params)\n",
    "rf.fit(X_train_dtm, y_train)\n",
    "y_pred = rf.predict(X_test_dtm)\n",
    "print(f1_score(y_test, y_pred, average='weighted'))\n",
    "print(accuracy_score(y_test, y_pred))"
   ]
  },
  {
   "cell_type": "code",
   "execution_count": 20,
   "id": "860aa89a",
   "metadata": {},
   "outputs": [
    {
     "name": "stdout",
     "output_type": "stream",
     "text": [
      "0.7582908362775068\n",
      "0.7790809504820436\n"
     ]
    }
   ],
   "source": [
    "params = {\n",
    "    \"n_estimators\": 100,\n",
    "    \"max_depth\": 1000,\n",
    "    \"min_samples_split\": 2,\n",
    "    \"random_state\" : 42\n",
    "}\n",
    "\n",
    "rf = RandomForestClassifier(**params)\n",
    "rf.fit(X_train_dtm, y_train)\n",
    "y_pred = rf.predict(X_test_dtm)\n",
    "print(f1_score(y_test, y_pred, average='weighted'))\n",
    "print(accuracy_score(y_test, y_pred))"
   ]
  },
  {
   "cell_type": "code",
   "execution_count": 13,
   "id": "303a4e39",
   "metadata": {},
   "outputs": [
    {
     "name": "stdout",
     "output_type": "stream",
     "text": [
      "0.7640657708580214\n",
      "0.7818723464145809\n"
     ]
    }
   ],
   "source": [
    "params = {\n",
    "    \"n_estimators\": 100,\n",
    "    \"max_depth\": 2000,\n",
    "    \"min_samples_split\": 2,\n",
    "    \"random_state\" : 42\n",
    "}\n",
    "\n",
    "rf = RandomForestClassifier(**params)\n",
    "rf.fit(X_train_dtm, y_train)\n",
    "y_pred = rf.predict(X_test_dtm)\n",
    "print(f1_score(y_test, y_pred, average='weighted'))\n",
    "print(accuracy_score(y_test, y_pred))"
   ]
  },
  {
   "cell_type": "code",
   "execution_count": 12,
   "id": "ae0ba6c0",
   "metadata": {},
   "outputs": [
    {
     "name": "stdout",
     "output_type": "stream",
     "text": [
      "0.7149271938674818\n",
      "0.7116652201449649\n"
     ]
    }
   ],
   "source": [
    "nn = KNeighborsClassifier(n_neighbors=1)\n",
    "nn.fit(X_train_dtm, y_train)\n",
    "y_pred = nn.predict(X_test_dtm)\n",
    "print(f1_score(y_test, y_pred, average='weighted'))\n",
    "print(accuracy_score(y_test, y_pred))"
   ]
  },
  {
   "cell_type": "code",
   "execution_count": 14,
   "id": "2d8bf61c",
   "metadata": {},
   "outputs": [
    {
     "name": "stdout",
     "output_type": "stream",
     "text": [
      "0.6792992606685309\n",
      "0.6600478525017006\n"
     ]
    }
   ],
   "source": [
    "nn = KNeighborsClassifier(n_neighbors=2)\n",
    "nn.fit(X_train_dtm, y_train)\n",
    "y_pred = nn.predict(X_test_dtm)\n",
    "print(f1_score(y_test, y_pred, average='weighted'))\n",
    "print(accuracy_score(y_test, y_pred))"
   ]
  },
  {
   "cell_type": "code",
   "execution_count": 13,
   "id": "6cfd8f49",
   "metadata": {},
   "outputs": [
    {
     "name": "stdout",
     "output_type": "stream",
     "text": [
      "0.7256831701653538\n",
      "0.7326945180737022\n"
     ]
    }
   ],
   "source": [
    "nn = KNeighborsClassifier(n_neighbors=3)\n",
    "nn.fit(X_train_dtm, y_train)\n",
    "y_pred = nn.predict(X_test_dtm)\n",
    "print(f1_score(y_test, y_pred, average='weighted'))\n",
    "print(accuracy_score(y_test, y_pred))"
   ]
  },
  {
   "cell_type": "code",
   "execution_count": 16,
   "id": "9795dd05",
   "metadata": {},
   "outputs": [
    {
     "name": "stdout",
     "output_type": "stream",
     "text": [
      "0.7230358060049208\n",
      "0.7358260420820529\n"
     ]
    }
   ],
   "source": [
    "nn = KNeighborsClassifier(n_neighbors=5)\n",
    "nn.fit(X_train_dtm, y_train)\n",
    "y_pred = nn.predict(X_test_dtm)\n",
    "print(f1_score(y_test, y_pred, average='weighted'))\n",
    "print(accuracy_score(y_test, y_pred))"
   ]
  },
  {
   "cell_type": "code",
   "execution_count": 17,
   "id": "18718a74",
   "metadata": {},
   "outputs": [
    {
     "name": "stdout",
     "output_type": "stream",
     "text": [
      "0.7229239930816906\n",
      "0.7291642232178461\n"
     ]
    }
   ],
   "source": [
    "nn = KNeighborsClassifier(n_neighbors=4)\n",
    "nn.fit(X_train_dtm, y_train)\n",
    "y_pred = nn.predict(X_test_dtm)\n",
    "print(f1_score(y_test, y_pred, average='weighted'))\n",
    "print(accuracy_score(y_test, y_pred))"
   ]
  },
  {
   "cell_type": "code",
   "execution_count": 18,
   "id": "b77d71c4",
   "metadata": {},
   "outputs": [
    {
     "name": "stdout",
     "output_type": "stream",
     "text": [
      "0.7093524158215425\n",
      "0.7300086791302104\n"
     ]
    }
   ],
   "source": [
    "nn = KNeighborsClassifier(n_neighbors=10)\n",
    "nn.fit(X_train_dtm, y_train)\n",
    "y_pred = nn.predict(X_test_dtm)\n",
    "print(f1_score(y_test, y_pred, average='weighted'))\n",
    "print(accuracy_score(y_test, y_pred))"
   ]
  },
  {
   "cell_type": "markdown",
   "id": "d2a2fc19",
   "metadata": {},
   "source": [
    "#### Binary"
   ]
  },
  {
   "cell_type": "code",
   "execution_count": 12,
   "id": "4c7d2ac4",
   "metadata": {},
   "outputs": [],
   "source": [
    "y_test_bi = np.where(y_test > 3, 1, 0)\n",
    "y_train_bi = np.where(y_train > 3, 1, 0)"
   ]
  },
  {
   "cell_type": "code",
   "execution_count": 23,
   "id": "24bdc46e",
   "metadata": {},
   "outputs": [
    {
     "name": "stdout",
     "output_type": "stream",
     "text": [
      "0.8895688557309022\n",
      "0.8891768900565317\n"
     ]
    }
   ],
   "source": [
    "nn = KNeighborsClassifier(n_neighbors=1)\n",
    "nn.fit(X_train_dtm, y_train_bi)\n",
    "y_pred = nn.predict(X_test_dtm)\n",
    "print(f1_score(y_test_bi, y_pred, average='weighted'))\n",
    "print(accuracy_score(y_test_bi, y_pred))"
   ]
  },
  {
   "cell_type": "code",
   "execution_count": null,
   "id": "e65a0280",
   "metadata": {},
   "outputs": [
    {
     "name": "stdout",
     "output_type": "stream",
     "text": [
      "0.8702161967285844\n",
      "0.8645469259459079\n"
     ]
    }
   ],
   "source": [
    "nn = KNeighborsClassifier(n_neighbors=2)\n",
    "nn.fit(X_train_dtm, y_train_bi)\n",
    "y_pred = nn.predict(X_test_dtm)\n",
    "print(f1_score(y_test_bi, y_pred, average='weighted'))\n",
    "print(accuracy_score(y_test_bi, y_pred))"
   ]
  },
  {
   "cell_type": "code",
   "execution_count": null,
   "id": "bac431e3",
   "metadata": {},
   "outputs": [
    {
     "name": "stdout",
     "output_type": "stream",
     "text": [
      "0.8986314069810654\n",
      "0.9005770448734489\n"
     ]
    }
   ],
   "source": [
    "nn = KNeighborsClassifier(n_neighbors=3)\n",
    "nn.fit(X_train_dtm, y_train_bi)\n",
    "y_pred = nn.predict(X_test_dtm)\n",
    "print(f1_score(y_test_bi, y_pred, average='weighted'))\n",
    "print(accuracy_score(y_test_bi, y_pred))"
   ]
  },
  {
   "cell_type": "code",
   "execution_count": null,
   "id": "f8bc7c32",
   "metadata": {},
   "outputs": [
    {
     "name": "stdout",
     "output_type": "stream",
     "text": [
      "0.8855484270968871\n",
      "0.883957683375947\n"
     ]
    }
   ],
   "source": [
    "nn = KNeighborsClassifier(n_neighbors=4)\n",
    "nn.fit(X_train_dtm, y_train_bi)\n",
    "y_pred = nn.predict(X_test_dtm)\n",
    "print(f1_score(y_test_bi, y_pred, average='weighted'))\n",
    "print(accuracy_score(y_test_bi, y_pred))"
   ]
  },
  {
   "cell_type": "code",
   "execution_count": null,
   "id": "0ef0995f",
   "metadata": {},
   "outputs": [
    {
     "name": "stdout",
     "output_type": "stream",
     "text": [
      "0.9046917928477467\n",
      "0.9094555605076118\n"
     ]
    }
   ],
   "source": [
    "params = {\n",
    "    \"n_estimators\": 100,\n",
    "    \"max_depth\": 500,\n",
    "    \"min_samples_split\": 2,\n",
    "    \"random_state\" : 42\n",
    "}\n",
    "\n",
    "rf = RandomForestClassifier(**params)\n",
    "rf.fit(X_train_dtm, y_train_bi)\n",
    "y_pred = rf.predict(X_test_dtm)\n",
    "print(f1_score(y_test_bi, y_pred, average='weighted'))\n",
    "print(accuracy_score(y_test_bi, y_pred))"
   ]
  },
  {
   "cell_type": "code",
   "execution_count": null,
   "id": "a48c88a2",
   "metadata": {},
   "outputs": [
    {
     "name": "stdout",
     "output_type": "stream",
     "text": [
      "0.9130491025327723\n",
      "0.9157303370786517\n"
     ]
    }
   ],
   "source": [
    "params = {\n",
    "    \"n_estimators\": 100,\n",
    "    \"max_depth\": 1000,\n",
    "    \"min_samples_split\": 2,\n",
    "    \"random_state\" : 42\n",
    "}\n",
    "\n",
    "rf = RandomForestClassifier(**params)\n",
    "rf.fit(X_train_dtm, y_train_bi)\n",
    "y_pred = rf.predict(X_test_dtm)\n",
    "print(f1_score(y_test_bi, y_pred, average='weighted'))\n",
    "print(accuracy_score(y_test_bi, y_pred))"
   ]
  },
  {
   "cell_type": "code",
   "execution_count": null,
   "id": "b1fedcad",
   "metadata": {},
   "outputs": [
    {
     "name": "stdout",
     "output_type": "stream",
     "text": [
      "0.915600711773248\n",
      "0.9175130773380873\n"
     ]
    }
   ],
   "source": [
    "params = {\n",
    "    \"n_estimators\": 100,\n",
    "    \"max_depth\": 2000,\n",
    "    \"min_samples_split\": 2,\n",
    "    \"random_state\" : 42\n",
    "}\n",
    "\n",
    "rf = RandomForestClassifier(**params)\n",
    "rf.fit(X_train_dtm, y_train_bi)\n",
    "y_pred = rf.predict(X_test_dtm)\n",
    "print(f1_score(y_test_bi, y_pred, average='weighted'))\n",
    "print(accuracy_score(y_test_bi, y_pred))"
   ]
  },
  {
   "cell_type": "code",
   "execution_count": 30,
   "id": "0e71aaa3",
   "metadata": {},
   "outputs": [
    {
     "name": "stdout",
     "output_type": "stream",
     "text": [
      "0.9163396548874571\n",
      "0.9183458046961132\n"
     ]
    }
   ],
   "source": [
    "params = {\n",
    "    \"n_estimators\": 100,\n",
    "    \"max_depth\": 2000,\n",
    "    \"min_samples_split\": 3,\n",
    "    \"random_state\" : 42\n",
    "}\n",
    "\n",
    "rf = RandomForestClassifier(**params)\n",
    "rf.fit(X_train_dtm, y_train_bi)\n",
    "y_pred = rf.predict(X_test_dtm)\n",
    "print(f1_score(y_test_bi, y_pred, average='weighted'))\n",
    "print(accuracy_score(y_test_bi, y_pred))"
   ]
  },
  {
   "cell_type": "code",
   "execution_count": 31,
   "id": "b6c9eb49",
   "metadata": {},
   "outputs": [
    {
     "name": "stdout",
     "output_type": "stream",
     "text": [
      "0.9171256780359088\n",
      "0.9186507471089114\n"
     ]
    }
   ],
   "source": [
    "params = {\n",
    "    \"n_estimators\": 100,\n",
    "    \"max_depth\": 3000,\n",
    "    \"min_samples_split\": 2,\n",
    "    \"random_state\" : 42\n",
    "}\n",
    "\n",
    "rf = RandomForestClassifier(**params)\n",
    "rf.fit(X_train_dtm, y_train_bi)\n",
    "y_pred = rf.predict(X_test_dtm)\n",
    "print(f1_score(y_test_bi, y_pred, average='weighted'))\n",
    "print(accuracy_score(y_test_bi, y_pred))"
   ]
  },
  {
   "cell_type": "code",
   "execution_count": 32,
   "id": "44acedae",
   "metadata": {},
   "outputs": [
    {
     "name": "stdout",
     "output_type": "stream",
     "text": [
      "0.9181498887345723\n",
      "0.9198118739884122\n"
     ]
    }
   ],
   "source": [
    "params = {\n",
    "    \"n_estimators\": 100,\n",
    "    \"max_depth\": 3000,\n",
    "    \"min_samples_split\": 3,\n",
    "    \"random_state\" : 42\n",
    "}\n",
    "\n",
    "rf = RandomForestClassifier(**params)\n",
    "rf.fit(X_train_dtm, y_train_bi)\n",
    "y_pred = rf.predict(X_test_dtm)\n",
    "print(f1_score(y_test_bi, y_pred, average='weighted'))\n",
    "print(accuracy_score(y_test_bi, y_pred))"
   ]
  },
  {
   "cell_type": "markdown",
   "id": "b2ece801",
   "metadata": {},
   "source": [
    "#### Reduce Size of Vector"
   ]
  },
  {
   "cell_type": "code",
   "execution_count": 13,
   "id": "6c4191a6",
   "metadata": {},
   "outputs": [],
   "source": [
    "from sklearn.feature_extraction.text import CountVectorizer\n",
    "vect = CountVectorizer(max_features= 5000, preprocessor=clean)\n",
    "X_train_dtm_small = vect.fit_transform(X_train_nonan)\n",
    "X_test_dtm_small = vect.transform(X_test_nonan)"
   ]
  },
  {
   "cell_type": "code",
   "execution_count": 33,
   "id": "2cca4c9b",
   "metadata": {},
   "outputs": [
    {
     "name": "stdout",
     "output_type": "stream",
     "text": [
      "(483165, 5000)\n",
      "(85262, 5000)\n"
     ]
    }
   ],
   "source": [
    "print(X_train_dtm_small.shape)\n",
    "print(X_test_dtm_small.shape)"
   ]
  },
  {
   "cell_type": "code",
   "execution_count": 15,
   "id": "90e17425",
   "metadata": {},
   "outputs": [
    {
     "name": "stdout",
     "output_type": "stream",
     "text": [
      "0.6572087553379327\n",
      "0.7211536206047242\n"
     ]
    }
   ],
   "source": [
    "params = {\n",
    "    \"n_estimators\": 100,\n",
    "    \"max_depth\": 100,\n",
    "    \"min_samples_split\": 2,\n",
    "    \"random_state\" : 42\n",
    "}\n",
    "\n",
    "rf = RandomForestClassifier(**params)\n",
    "rf.fit(X_train_dtm_small, y_train)\n",
    "y_pred = rf.predict(X_test_dtm_small)\n",
    "print(f1_score(y_test, y_pred, average='weighted'))\n",
    "print(accuracy_score(y_test, y_pred))"
   ]
  },
  {
   "cell_type": "code",
   "execution_count": 16,
   "id": "f5c80cc4",
   "metadata": {},
   "outputs": [
    {
     "name": "stdout",
     "output_type": "stream",
     "text": [
      "0.7447293134798326\n",
      "0.7695925500222842\n"
     ]
    }
   ],
   "source": [
    "params = {\n",
    "    \"n_estimators\": 100,\n",
    "    \"max_depth\": 500,\n",
    "    \"min_samples_split\": 2,\n",
    "    \"random_state\" : 42\n",
    "}\n",
    "\n",
    "rf = RandomForestClassifier(**params)\n",
    "rf.fit(X_train_dtm_small, y_train)\n",
    "y_pred = rf.predict(X_test_dtm_small)\n",
    "print(f1_score(y_test, y_pred, average='weighted'))\n",
    "print(accuracy_score(y_test, y_pred))"
   ]
  },
  {
   "cell_type": "code",
   "execution_count": 17,
   "id": "1f807bdd",
   "metadata": {},
   "outputs": [
    {
     "name": "stdout",
     "output_type": "stream",
     "text": [
      "0.7543098552509441\n",
      "0.7737679153667519\n"
     ]
    }
   ],
   "source": [
    "params = {\n",
    "    \"n_estimators\": 100,\n",
    "    \"max_depth\": 1000,\n",
    "    \"min_samples_split\": 2,\n",
    "    \"random_state\" : 42\n",
    "}\n",
    "\n",
    "rf = RandomForestClassifier(**params)\n",
    "rf.fit(X_train_dtm_small, y_train)\n",
    "y_pred = rf.predict(X_test_dtm_small)\n",
    "print(f1_score(y_test, y_pred, average='weighted'))\n",
    "print(accuracy_score(y_test, y_pred))"
   ]
  },
  {
   "cell_type": "code",
   "execution_count": 18,
   "id": "bc4c19e2",
   "metadata": {},
   "outputs": [
    {
     "name": "stdout",
     "output_type": "stream",
     "text": [
      "0.7557915943166011\n",
      "0.7759259693650161\n"
     ]
    }
   ],
   "source": [
    "params = {\n",
    "    \"n_estimators\": 100,\n",
    "    \"max_depth\": 1000,\n",
    "    \"min_samples_split\": 3,\n",
    "    \"random_state\" : 42\n",
    "}\n",
    "\n",
    "rf = RandomForestClassifier(**params)\n",
    "rf.fit(X_train_dtm_small, y_train)\n",
    "y_pred = rf.predict(X_test_dtm_small)\n",
    "print(f1_score(y_test, y_pred, average='weighted'))\n",
    "print(accuracy_score(y_test, y_pred))"
   ]
  },
  {
   "cell_type": "code",
   "execution_count": 14,
   "id": "99efa866",
   "metadata": {},
   "outputs": [
    {
     "name": "stdout",
     "output_type": "stream",
     "text": [
      "0.7100409383569322\n",
      "0.708439867701907\n"
     ]
    }
   ],
   "source": [
    "nn = KNeighborsClassifier(n_neighbors=1)\n",
    "nn.fit(X_train_dtm_small, y_train)\n",
    "y_pred = nn.predict(X_test_dtm_small)\n",
    "print(f1_score(y_test, y_pred, average='weighted'))\n",
    "print(accuracy_score(y_test, y_pred))"
   ]
  },
  {
   "cell_type": "code",
   "execution_count": 34,
   "id": "bcf5e666",
   "metadata": {},
   "outputs": [
    {
     "name": "stdout",
     "output_type": "stream",
     "text": [
      "0.6694817534905223\n",
      "0.651568107715043\n"
     ]
    }
   ],
   "source": [
    "nn = KNeighborsClassifier(n_neighbors=2)\n",
    "nn.fit(X_train_dtm_small, y_train)\n",
    "y_pred = nn.predict(X_test_dtm_small)\n",
    "print(f1_score(y_test, y_pred, average='weighted'))\n",
    "print(accuracy_score(y_test, y_pred))"
   ]
  },
  {
   "cell_type": "code",
   "execution_count": 35,
   "id": "0d192762",
   "metadata": {},
   "outputs": [
    {
     "name": "stdout",
     "output_type": "stream",
     "text": [
      "0.7140628220879688\n",
      "0.7223264760385635\n"
     ]
    }
   ],
   "source": [
    "nn = KNeighborsClassifier(n_neighbors=3)\n",
    "nn.fit(X_train_dtm_small, y_train)\n",
    "y_pred = nn.predict(X_test_dtm_small)\n",
    "print(f1_score(y_test, y_pred, average='weighted'))\n",
    "print(accuracy_score(y_test, y_pred))"
   ]
  },
  {
   "cell_type": "code",
   "execution_count": 36,
   "id": "b9532e90",
   "metadata": {},
   "outputs": [
    {
     "name": "stdout",
     "output_type": "stream",
     "text": [
      "0.719369722108346\n",
      "0.728472238511881\n"
     ]
    }
   ],
   "source": [
    "nn = KNeighborsClassifier(n_neighbors=4)\n",
    "nn.fit(X_train_dtm_small, y_train)\n",
    "y_pred = nn.predict(X_test_dtm_small)\n",
    "print(f1_score(y_test, y_pred, average='weighted'))\n",
    "print(accuracy_score(y_test, y_pred))"
   ]
  },
  {
   "cell_type": "code",
   "execution_count": 37,
   "id": "a6a8fc0f",
   "metadata": {},
   "outputs": [
    {
     "name": "stdout",
     "output_type": "stream",
     "text": [
      "0.7237863755579702\n",
      "0.7407989491215313\n"
     ]
    }
   ],
   "source": [
    "nn = KNeighborsClassifier(n_neighbors=5)\n",
    "nn.fit(X_train_dtm_small, y_train)\n",
    "y_pred = nn.predict(X_test_dtm_small)\n",
    "print(f1_score(y_test, y_pred, average='weighted'))\n",
    "print(accuracy_score(y_test, y_pred))"
   ]
  },
  {
   "cell_type": "code",
   "execution_count": 14,
   "id": "49a1944a",
   "metadata": {},
   "outputs": [
    {
     "name": "stdout",
     "output_type": "stream",
     "text": [
      "0.7186536840530705\n",
      "0.7420890900987545\n"
     ]
    }
   ],
   "source": [
    "nn = KNeighborsClassifier(n_neighbors=7)\n",
    "nn.fit(X_train_dtm_small, y_train)\n",
    "y_pred = nn.predict(X_test_dtm_small)\n",
    "print(f1_score(y_test, y_pred, average='weighted'))\n",
    "print(accuracy_score(y_test, y_pred))"
   ]
  },
  {
   "cell_type": "code",
   "execution_count": 38,
   "id": "e7ab9de8",
   "metadata": {},
   "outputs": [
    {
     "name": "stdout",
     "output_type": "stream",
     "text": [
      "0.886828189117084\n",
      "0.8879805775140156\n"
     ]
    }
   ],
   "source": [
    "nn = KNeighborsClassifier(n_neighbors=1)\n",
    "nn.fit(X_train_dtm_small, y_train_bi)\n",
    "y_pred = nn.predict(X_test_dtm_small)\n",
    "print(f1_score(y_test_bi, y_pred, average='weighted'))\n",
    "print(accuracy_score(y_test_bi, y_pred))"
   ]
  },
  {
   "cell_type": "code",
   "execution_count": 39,
   "id": "1a17a93b",
   "metadata": {},
   "outputs": [
    {
     "name": "stdout",
     "output_type": "stream",
     "text": [
      "0.8655292129127704\n",
      "0.8596561187867984\n"
     ]
    }
   ],
   "source": [
    "nn = KNeighborsClassifier(n_neighbors=2)\n",
    "nn.fit(X_train_dtm_small, y_train_bi)\n",
    "y_pred = nn.predict(X_test_dtm_small)\n",
    "print(f1_score(y_test_bi, y_pred, average='weighted'))\n",
    "print(accuracy_score(y_test_bi, y_pred))"
   ]
  },
  {
   "cell_type": "code",
   "execution_count": 40,
   "id": "24b3ec29",
   "metadata": {},
   "outputs": [
    {
     "name": "stdout",
     "output_type": "stream",
     "text": [
      "0.8929880764071071\n",
      "0.8954282095188947\n"
     ]
    }
   ],
   "source": [
    "nn = KNeighborsClassifier(n_neighbors=3)\n",
    "nn.fit(X_train_dtm_small, y_train_bi)\n",
    "y_pred = nn.predict(X_test_dtm_small)\n",
    "print(f1_score(y_test_bi, y_pred, average='weighted'))\n",
    "print(accuracy_score(y_test_bi, y_pred))"
   ]
  },
  {
   "cell_type": "code",
   "execution_count": 41,
   "id": "1b04766b",
   "metadata": {},
   "outputs": [
    {
     "name": "stdout",
     "output_type": "stream",
     "text": [
      "0.8891116734995297\n",
      "0.8892589899369003\n"
     ]
    }
   ],
   "source": [
    "nn = KNeighborsClassifier(n_neighbors=4)\n",
    "nn.fit(X_train_dtm_small, y_train_bi)\n",
    "y_pred = nn.predict(X_test_dtm_small)\n",
    "print(f1_score(y_test_bi, y_pred, average='weighted'))\n",
    "print(accuracy_score(y_test_bi, y_pred))"
   ]
  },
  {
   "cell_type": "code",
   "execution_count": 42,
   "id": "e0e6785a",
   "metadata": {},
   "outputs": [
    {
     "name": "stdout",
     "output_type": "stream",
     "text": [
      "0.8919020728247016\n",
      "0.8956275949426473\n"
     ]
    }
   ],
   "source": [
    "nn = KNeighborsClassifier(n_neighbors=5)\n",
    "nn.fit(X_train_dtm_small, y_train_bi)\n",
    "y_pred = nn.predict(X_test_dtm_small)\n",
    "print(f1_score(y_test_bi, y_pred, average='weighted'))\n",
    "print(accuracy_score(y_test_bi, y_pred))"
   ]
  },
  {
   "cell_type": "code",
   "execution_count": 16,
   "id": "9c629758",
   "metadata": {},
   "outputs": [
    {
     "name": "stdout",
     "output_type": "stream",
     "text": [
      "0.8883008544916128\n",
      "0.8929769416621707\n"
     ]
    }
   ],
   "source": [
    "nn = KNeighborsClassifier(n_neighbors=7)\n",
    "nn.fit(X_train_dtm_small, y_train_bi)\n",
    "y_pred = nn.predict(X_test_dtm_small)\n",
    "print(f1_score(y_test_bi, y_pred, average='weighted'))\n",
    "print(accuracy_score(y_test_bi, y_pred))"
   ]
  },
  {
   "cell_type": "code",
   "execution_count": 43,
   "id": "1248f206",
   "metadata": {},
   "outputs": [
    {
     "name": "stdout",
     "output_type": "stream",
     "text": [
      "0.9039803361066313\n",
      "0.9078722056719288\n"
     ]
    }
   ],
   "source": [
    "params = {\n",
    "    \"n_estimators\": 100,\n",
    "    \"max_depth\": 500,\n",
    "    \"min_samples_split\": 2,\n",
    "    \"random_state\" : 42\n",
    "}\n",
    "\n",
    "rf = RandomForestClassifier(**params)\n",
    "rf.fit(X_train_dtm_small, y_train_bi)\n",
    "y_pred = rf.predict(X_test_dtm_small)\n",
    "print(f1_score(y_test_bi, y_pred, average='weighted'))\n",
    "print(accuracy_score(y_test_bi, y_pred))"
   ]
  },
  {
   "cell_type": "code",
   "execution_count": 44,
   "id": "648cb9c6",
   "metadata": {},
   "outputs": [
    {
     "name": "stdout",
     "output_type": "stream",
     "text": [
      "0.9099282929044692\n",
      "0.9123876990922098\n"
     ]
    }
   ],
   "source": [
    "params = {\n",
    "    \"n_estimators\": 100,\n",
    "    \"max_depth\": 1000,\n",
    "    \"min_samples_split\": 2,\n",
    "    \"random_state\" : 42\n",
    "}\n",
    "\n",
    "rf = RandomForestClassifier(**params)\n",
    "rf.fit(X_train_dtm_small, y_train_bi)\n",
    "y_pred = rf.predict(X_test_dtm_small)\n",
    "print(f1_score(y_test_bi, y_pred, average='weighted'))\n",
    "print(accuracy_score(y_test_bi, y_pred))"
   ]
  },
  {
   "cell_type": "code",
   "execution_count": 45,
   "id": "ee2c346f",
   "metadata": {},
   "outputs": [
    {
     "name": "stdout",
     "output_type": "stream",
     "text": [
      "0.9108364346094692\n",
      "0.9133611691022965\n"
     ]
    }
   ],
   "source": [
    "params = {\n",
    "    \"n_estimators\": 100,\n",
    "    \"max_depth\": 1000,\n",
    "    \"min_samples_split\": 3,\n",
    "    \"random_state\" : 42\n",
    "}\n",
    "\n",
    "rf = RandomForestClassifier(**params)\n",
    "rf.fit(X_train_dtm_small, y_train_bi)\n",
    "y_pred = rf.predict(X_test_dtm_small)\n",
    "print(f1_score(y_test_bi, y_pred, average='weighted'))\n",
    "print(accuracy_score(y_test_bi, y_pred))"
   ]
  },
  {
   "cell_type": "code",
   "execution_count": null,
   "id": "89e01270",
   "metadata": {},
   "outputs": [],
   "source": []
  }
 ],
 "metadata": {
  "kernelspec": {
   "display_name": "conda_python3",
   "language": "python",
   "name": "conda_python3"
  },
  "language_info": {
   "codemirror_mode": {
    "name": "ipython",
    "version": 3
   },
   "file_extension": ".py",
   "mimetype": "text/x-python",
   "name": "python",
   "nbconvert_exporter": "python",
   "pygments_lexer": "ipython3",
   "version": "3.10.8"
  }
 },
 "nbformat": 4,
 "nbformat_minor": 5
}
